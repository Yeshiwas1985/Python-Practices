{
 "cells": [
  {
   "cell_type": "code",
   "execution_count": 25,
   "id": "9edb9a7e-ae3e-466c-864a-73a0874e2ce0",
   "metadata": {},
   "outputs": [],
   "source": [
    "### Printing common keyword from two strings\n",
    "def commom_letter():\n",
    "    str1 = input(\"Enter String 1\")\n",
    "    str2 = input(\"Enter String 2\")\n",
    "    ls1 = []\n",
    "    ls2 = []\n",
    "    common_str = []\n",
    "    for s1 in str1:\n",
    "        if s1 not in ls1:\n",
    "            ls1.append(s1)\n",
    "    for s2 in str2:\n",
    "        if s2 not in ls2:\n",
    "            ls2.append(s2)\n",
    "    for x in ls1:\n",
    "        for y in ls2:\n",
    "            if x == y:\n",
    "                common_str.append(x)\n",
    "    print(\"Unique Letleres of String 1: \", ls1)\n",
    "    print(\"Unique Letleres of String 2: \", ls2)\n",
    "    print(\"Common Letters  of String 1 and String 2 : \", common_str)"
   ]
  },
  {
   "cell_type": "code",
   "execution_count": 27,
   "id": "55008c40-dd7a-4bc7-878e-bf590140985c",
   "metadata": {},
   "outputs": [
    {
     "name": "stdin",
     "output_type": "stream",
     "text": [
      "Enter String 1 Selamu\n",
      "Enter String 2 Simret\n"
     ]
    },
    {
     "name": "stdout",
     "output_type": "stream",
     "text": [
      "Unique Letleres of String 1:  ['S', 'e', 'l', 'a', 'm', 'u']\n",
      "Unique Letleres of String 2:  ['S', 'i', 'm', 'r', 'e', 't']\n",
      "Common Letters  of String 1 and String 2 :  ['S', 'e', 'm']\n"
     ]
    }
   ],
   "source": [
    "commom_letter()"
   ]
  },
  {
   "cell_type": "code",
   "execution_count": 14,
   "id": "f7517c73-dfb8-4c85-b131-aafdbed23e48",
   "metadata": {},
   "outputs": [
    {
     "name": "stdin",
     "output_type": "stream",
     "text": [
      "1:  1\n",
      "2:  2\n",
      "3:  3\n",
      "4:  4\n",
      "5:  5\n"
     ]
    },
    {
     "name": "stdout",
     "output_type": "stream",
     "text": [
      "sum =  15\n"
     ]
    }
   ],
   "source": [
    "### calculating the sum of 5 integers from user input\n",
    "sum = 0\n",
    "list = []\n",
    "for n in range (5):\n",
    "    num = input(f\"{n+1}: \")\n",
    "    list.append(int(num))\n",
    "for i in list:\n",
    "    sum += i\n",
    "print(\"sum = \",sum)"
   ]
  },
  {
   "cell_type": "code",
   "execution_count": 20,
   "id": "d6cd8e69-cc50-4cc8-b517-99c20515c21b",
   "metadata": {},
   "outputs": [],
   "source": [
    "### calculating the sum of the list from the user input using functions\n",
    "def list_sum():\n",
    "    sum = 0\n",
    "    list = []\n",
    "    for n in range(5):\n",
    "        num = input(f\"{n+1}\")\n",
    "        list.append(int(num))\n",
    "    for i in list:\n",
    "        sum += i\n",
    "    return sum"
   ]
  },
  {
   "cell_type": "code",
   "execution_count": 21,
   "id": "b2310583-3e22-44ec-892e-ac41bf27a3de",
   "metadata": {},
   "outputs": [
    {
     "name": "stdin",
     "output_type": "stream",
     "text": [
      "1 1\n",
      "2 2\n",
      "3 3\n",
      "4 4\n",
      "5 5\n"
     ]
    },
    {
     "data": {
      "text/plain": [
       "15"
      ]
     },
     "execution_count": 21,
     "metadata": {},
     "output_type": "execute_result"
    }
   ],
   "source": [
    "list_sum()"
   ]
  },
  {
   "cell_type": "code",
   "execution_count": 22,
   "id": "f3d5f4ab-699b-4a9b-bbfa-b93eb86e66d9",
   "metadata": {},
   "outputs": [],
   "source": [
    "dict = {\n",
    "    \"0\":\"Zero\",\n",
    "    \"1\":\"One\",\n",
    "    \"2\": \"Two\"\n",
    "}"
   ]
  },
  {
   "cell_type": "code",
   "execution_count": 1,
   "id": "157932ee-2a2e-4a9c-884d-239cecf4949e",
   "metadata": {},
   "outputs": [],
   "source": [
    "### Variable length non-keyword arguments\n",
    "def sum(*numbers):\n",
    "    sum = 0\n",
    "    for num in numbers:\n",
    "        sum += num\n",
    "    return sum\n",
    "    "
   ]
  },
  {
   "cell_type": "code",
   "execution_count": 2,
   "id": "6e6c2176-4e0c-4e0c-a58a-c6c7cd7c4b4a",
   "metadata": {},
   "outputs": [
    {
     "data": {
      "text/plain": [
       "6"
      ]
     },
     "execution_count": 2,
     "metadata": {},
     "output_type": "execute_result"
    }
   ],
   "source": [
    "sum(1, 2, 3)"
   ]
  },
  {
   "cell_type": "code",
   "execution_count": 4,
   "id": "792a5369-a1be-4b50-8b12-6d6ad6d6fca1",
   "metadata": {},
   "outputs": [
    {
     "data": {
      "text/plain": [
       "25"
      ]
     },
     "execution_count": 4,
     "metadata": {},
     "output_type": "execute_result"
    }
   ],
   "source": [
    "sum(3, 4, 5, 6, 7)"
   ]
  },
  {
   "cell_type": "code",
   "execution_count": 3,
   "id": "189756a7-8407-4f46-9af9-25e445c42a44",
   "metadata": {},
   "outputs": [
    {
     "data": {
      "text/plain": [
       "12"
      ]
     },
     "execution_count": 3,
     "metadata": {},
     "output_type": "execute_result"
    }
   ],
   "source": [
    "sum(4, 8)"
   ]
  },
  {
   "cell_type": "code",
   "execution_count": 13,
   "id": "5cd9ea59-2a01-454e-9d60-5a4ae553d32f",
   "metadata": {},
   "outputs": [],
   "source": [
    "### variable length keyword arguments\n",
    "def show_data(**data):\n",
    "    for key, value in data.items():\n",
    "        print(\"{}: is {} \".format(key, value))\n",
    "    print(\".................................\")\n",
    "    "
   ]
  },
  {
   "cell_type": "code",
   "execution_count": 14,
   "id": "ffc3145c-8aeb-4ed8-9e8a-02347ebfd15c",
   "metadata": {},
   "outputs": [
    {
     "name": "stdout",
     "output_type": "stream",
     "text": [
      "fname: is Yeshiwas \n",
      "lname: is Dagnaw \n",
      "age: is 28 \n",
      "address: is AA \n",
      ".................................\n",
      "fname: is Yeshiwas \n",
      "age: is 28 \n",
      "address: is AA \n",
      ".................................\n"
     ]
    }
   ],
   "source": [
    "show_data(fname=\"Yeshiwas\", lname=\"Dagnaw\", age=28, address=\"AA\")\n",
    "show_data(fname=\"Yeshiwas\", age=28, address=\"AA\")"
   ]
  },
  {
   "cell_type": "code",
   "execution_count": 15,
   "id": "aecf9dbc-4dd1-457e-8228-ec486b8d3924",
   "metadata": {},
   "outputs": [],
   "source": [
    "### Recursive function\n",
    "def factorial(x):\n",
    "    if x == 1:\n",
    "        return 1\n",
    "    else:\n",
    "        return (x * factorial(x-1))"
   ]
  },
  {
   "cell_type": "code",
   "execution_count": 17,
   "id": "66ad4bd3-2a09-4824-8748-bcc5534b5c18",
   "metadata": {},
   "outputs": [
    {
     "data": {
      "text/plain": [
       "24"
      ]
     },
     "execution_count": 17,
     "metadata": {},
     "output_type": "execute_result"
    }
   ],
   "source": [
    "factorial(4)"
   ]
  },
  {
   "cell_type": "code",
   "execution_count": 34,
   "id": "6620f4f4-234c-49b3-9b78-68d184a98264",
   "metadata": {},
   "outputs": [],
   "source": [
    "### lambda function\n",
    "mul = lambda  x : x*x if x >= 10 else x*x*x"
   ]
  },
  {
   "cell_type": "code",
   "execution_count": 35,
   "id": "1b51223d-9fed-4625-88ba-74b84f2fd8a0",
   "metadata": {},
   "outputs": [
    {
     "data": {
      "text/plain": [
       "8"
      ]
     },
     "execution_count": 35,
     "metadata": {},
     "output_type": "execute_result"
    }
   ],
   "source": [
    "mul(2)"
   ]
  },
  {
   "cell_type": "code",
   "execution_count": 39,
   "id": "f2916eba-21a7-4bc4-9f92-ddec784d9347",
   "metadata": {},
   "outputs": [],
   "source": [
    "compare = lambda a,b: a if a>b else b"
   ]
  },
  {
   "cell_type": "code",
   "execution_count": 40,
   "id": "d837066b-6e1a-4e07-aa8d-7338ff0c9ec4",
   "metadata": {},
   "outputs": [
    {
     "data": {
      "text/plain": [
       "10"
      ]
     },
     "execution_count": 40,
     "metadata": {},
     "output_type": "execute_result"
    }
   ],
   "source": [
    "compare(6, 10)"
   ]
  }
 ],
 "metadata": {
  "kernelspec": {
   "display_name": "Python 3 (ipykernel)",
   "language": "python",
   "name": "python3"
  },
  "language_info": {
   "codemirror_mode": {
    "name": "ipython",
    "version": 3
   },
   "file_extension": ".py",
   "mimetype": "text/x-python",
   "name": "python",
   "nbconvert_exporter": "python",
   "pygments_lexer": "ipython3",
   "version": "3.11.5"
  }
 },
 "nbformat": 4,
 "nbformat_minor": 5
}
