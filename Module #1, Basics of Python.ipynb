{
 "cells": [
  {
   "cell_type": "markdown",
   "id": "e56b7532",
   "metadata": {},
   "source": [
    "### How Python code gets executed?"
   ]
  },
  {
   "cell_type": "markdown",
   "id": "1578a14d",
   "metadata": {},
   "source": [
    "Python interpreters execute the code line by line from top to bottom"
   ]
  },
  {
   "cell_type": "code",
   "execution_count": 1,
   "id": "bf9bd34c",
   "metadata": {},
   "outputs": [
    {
     "name": "stdout",
     "output_type": "stream",
     "text": [
      "This is Yeshiwas dagnaw\n",
      "How are you there?\n",
      "**********\n"
     ]
    }
   ],
   "source": [
    "### Example #1\n",
    "print(\"This is Yeshiwas dagnaw\") ## executed first\n",
    "print(\"How are you there?\") ## this gets executed second\n",
    "print(\"*\" * 10) ## this executed last"
   ]
  },
  {
   "cell_type": "markdown",
   "id": "4c480d9a",
   "metadata": {},
   "source": [
    "### variables"
   ]
  },
  {
   "cell_type": "markdown",
   "id": "f43da027",
   "metadata": {},
   "source": [
    "Variables are containers which hold or store data in computer temporarly"
   ]
  },
  {
   "cell_type": "code",
   "execution_count": 6,
   "id": "11b502f0",
   "metadata": {},
   "outputs": [
    {
     "name": "stdout",
     "output_type": "stream",
     "text": [
      "Price: 10\n",
      "Rating: 4.5\n",
      "Name: yeshiwas Dagnaw\n",
      "Phd: False\n"
     ]
    }
   ],
   "source": [
    "## Example\n",
    "price = 10 # price is variable name, = is asssignement, and 10 is value of the variable\n",
    "rating = 4.5\n",
    "name = \"yeshiwas Dagnaw\"\n",
    "is_Phd_holder = False\n",
    "## N.B:- price is integer variable, rating is floating point variable, name is string variable, and is_Phd_holder is boolean variable\n",
    "print(\"Price:\", price)\n",
    "print(\"Rating:\", rating)\n",
    "print(\"Name:\", name)\n",
    "print(\"Phd:\", is_Phd_holder)"
   ]
  },
  {
   "cell_type": "markdown",
   "id": "123b59ae",
   "metadata": {},
   "source": [
    "N.B: we can also store complex values of variables like lists and objects"
   ]
  },
  {
   "cell_type": "markdown",
   "id": "7721a3db",
   "metadata": {},
   "source": [
    "<b>Exercise </b> <br>\n",
    "define a variable  and print their values. <br>\n",
    "we checked a new patient named John Smith. <br>\n",
    "he's a 27 years old and is a new patient.\n"
   ]
  },
  {
   "cell_type": "code",
   "execution_count": 7,
   "id": "2df11c55",
   "metadata": {},
   "outputs": [
    {
     "name": "stdout",
     "output_type": "stream",
     "text": [
      "Name:  John Smith\n",
      "Age:  27\n"
     ]
    }
   ],
   "source": [
    "### Answer\n",
    "name = \"John Smith\"\n",
    "age = 27\n",
    "is_new = True\n",
    "print(\"Name: \", name)\n",
    "print(\"Age: \", age)"
   ]
  },
  {
   "cell_type": "markdown",
   "id": "84b68e20",
   "metadata": {},
   "source": [
    "### Accepting input from user/keyboard \n",
    "input() function is used to accept the inputs from users or keyboard"
   ]
  },
  {
   "cell_type": "code",
   "execution_count": 2,
   "id": "35526a9f",
   "metadata": {},
   "outputs": [
    {
     "name": "stdout",
     "output_type": "stream",
     "text": [
      "What is your name?\n",
      "Yeshiwas Dagnaw\n",
      "Hi Yeshiwas Dagnaw\n"
     ]
    }
   ],
   "source": [
    " ## Example 1\n",
    "name = input(\"What is your name?\\n\")\n",
    "print(\"Hi \" + name)"
   ]
  },
  {
   "cell_type": "raw",
   "id": "a61343bc",
   "metadata": {},
   "source": [
    "Exercise\n",
    "Ask two questions: person's name and favorite color.\n",
    "then, print a message like \"Yeshiwas likes red\""
   ]
  },
  {
   "cell_type": "code",
   "execution_count": 5,
   "id": "60aacd97",
   "metadata": {},
   "outputs": [
    {
     "name": "stdout",
     "output_type": "stream",
     "text": [
      "What is your name?\n",
      " Yeshiwas\n",
      "What is your favorite color?\n",
      " Red\n",
      "Yeshiwas likes Red\n"
     ]
    }
   ],
   "source": [
    "### Solution\n",
    "name = input(\"What is your name?\\n \")\n",
    "favorite_color = input(\"What is your favorite color?\\n \")\n",
    "print(name + \" likes \" + favorite_color)"
   ]
  },
  {
   "cell_type": "markdown",
   "id": "19e63a1e",
   "metadata": {},
   "source": [
    "### Type Conversion\n",
    "converting the data types into thier appropriate type"
   ]
  },
  {
   "cell_type": "code",
   "execution_count": 6,
   "id": "b418f319",
   "metadata": {},
   "outputs": [
    {
     "name": "stdout",
     "output_type": "stream",
     "text": [
      "Birth Year: 1995\n"
     ]
    },
    {
     "ename": "TypeError",
     "evalue": "unsupported operand type(s) for -: 'int' and 'str'",
     "output_type": "error",
     "traceback": [
      "\u001b[1;31m---------------------------------------------------------------------------\u001b[0m",
      "\u001b[1;31mTypeError\u001b[0m                                 Traceback (most recent call last)",
      "\u001b[1;32m~\\AppData\\Local\\Temp\\ipykernel_7136\\1361796829.py\u001b[0m in \u001b[0;36m<cell line: 3>\u001b[1;34m()\u001b[0m\n\u001b[0;32m      1\u001b[0m \u001b[1;31m### Example\u001b[0m\u001b[1;33m\u001b[0m\u001b[1;33m\u001b[0m\u001b[0m\n\u001b[0;32m      2\u001b[0m \u001b[0mbirth_year\u001b[0m \u001b[1;33m=\u001b[0m \u001b[0minput\u001b[0m\u001b[1;33m(\u001b[0m\u001b[1;34m\"Birth Year: \"\u001b[0m\u001b[1;33m)\u001b[0m \u001b[1;31m### stores the data in string form\u001b[0m\u001b[1;33m\u001b[0m\u001b[1;33m\u001b[0m\u001b[0m\n\u001b[1;32m----> 3\u001b[1;33m \u001b[0mage\u001b[0m \u001b[1;33m=\u001b[0m \u001b[1;36m2022\u001b[0m \u001b[1;33m-\u001b[0m \u001b[0mbirth_year\u001b[0m\u001b[1;33m\u001b[0m\u001b[1;33m\u001b[0m\u001b[0m\n\u001b[0m\u001b[0;32m      4\u001b[0m \u001b[0mprint\u001b[0m\u001b[1;33m(\u001b[0m\u001b[0mage\u001b[0m\u001b[1;33m)\u001b[0m \u001b[1;31m### we'll get an error that indicates unable to perform substration operation, because birth_year stores its value in string from\u001b[0m\u001b[1;33m\u001b[0m\u001b[1;33m\u001b[0m\u001b[0m\n\u001b[0;32m      5\u001b[0m \u001b[1;31m### so that, it's impossible to substract string value from integer value\u001b[0m\u001b[1;33m\u001b[0m\u001b[1;33m\u001b[0m\u001b[0m\n",
      "\u001b[1;31mTypeError\u001b[0m: unsupported operand type(s) for -: 'int' and 'str'"
     ]
    }
   ],
   "source": [
    "### Example\n",
    "birth_year = input(\"Birth Year: \") ### stores the data in string form\n",
    "age = 2022 - birth_year\n",
    "print(age) ### we'll get an error that indicates unable to perform substration operation, because birth_year stores its value in string from\n",
    "### so that, it's impossible to substract string value from integer value\n"
   ]
  },
  {
   "cell_type": "code",
   "execution_count": 9,
   "id": "acf96a6a",
   "metadata": {},
   "outputs": [
    {
     "name": "stdout",
     "output_type": "stream",
     "text": [
      "Birth Year: 1995\n",
      "<class 'str'>\n",
      "Your age is:  27\n"
     ]
    }
   ],
   "source": [
    "### Solution 1\n",
    "## to solve the above proble, we need to convert the type of birth_year into integer type\n",
    "birth_year = (input(\"Birth Year: \")) \n",
    "print(type(birth_year)) ## returns the type of data of birth_year\n",
    "age = 2022 - int(birth_year)## the value of birth_year will be converted into integer type\n",
    "print(\"Your age is: \", age)"
   ]
  },
  {
   "cell_type": "code",
   "execution_count": 10,
   "id": "f7a7cefc",
   "metadata": {},
   "outputs": [
    {
     "name": "stdout",
     "output_type": "stream",
     "text": [
      "Birth Year: 1995\n",
      "<class 'int'>\n",
      "Your age is:  27\n"
     ]
    }
   ],
   "source": [
    "### Solution 2\n",
    "birth_year = int(input(\"Birth Year: \")) # the value of birth_year will be converted into integer type\n",
    "print(type(birth_year)) ## the type is converted into int\n",
    "age = 2022 - (birth_year)\n",
    "print(\"Your age is: \", age)"
   ]
  },
  {
   "cell_type": "raw",
   "id": "8079652e",
   "metadata": {},
   "source": [
    "Exercise \n",
    "Ask a user their weight in pounds, and convert it to kilograms and print the result on the terminal"
   ]
  },
  {
   "cell_type": "code",
   "execution_count": 13,
   "id": "6633daa8",
   "metadata": {},
   "outputs": [
    {
     "name": "stdout",
     "output_type": "stream",
     "text": [
      "Your weight(in lps): \n",
      " 120\n",
      "Your weight in kg is : 54.0\n"
     ]
    }
   ],
   "source": [
    "weight_in_lbs = input(\"Your weight(in lps): \\n \")\n",
    "weight_in_kg = float(weight_in_lbs) * 0.45 ### value of weight_in_lbs will be converted into float type\n",
    "print(\"Your weight in kg is :\", weight_in_kg)"
   ]
  },
  {
   "cell_type": "markdown",
   "id": "98886e5c",
   "metadata": {},
   "source": [
    "### Strings"
   ]
  },
  {
   "cell_type": "code",
   "execution_count": 14,
   "id": "c311e3e0",
   "metadata": {},
   "outputs": [
    {
     "name": "stdout",
     "output_type": "stream",
     "text": [
      "python course for beginners\n",
      "python's course for beginners\n",
      "python course for \"Beginners\"\n"
     ]
    }
   ],
   "source": [
    "course = 'python course for beginners'\n",
    "course1 = \"python's course for beginners\" ## use double quotation to define apostrophes\n",
    "course2 = 'python course for \"Beginners\"' ### single quote to add double quotes in the string\n",
    "print(course)\n",
    "print(course1)\n",
    "print(course2)"
   ]
  },
  {
   "cell_type": "code",
   "execution_count": 18,
   "id": "047b41bb",
   "metadata": {},
   "outputs": [
    {
     "name": "stdout",
     "output_type": "stream",
     "text": [
      "Hi yeshiwas,\n",
      "This is to inform you that\n",
      "you have to re-submmit your proposal\n",
      "on coming week,\n",
      "Thank you.\n"
     ]
    }
   ],
   "source": [
    "### tripple quotes for multi-line strings\n",
    "email = \"\"\"Hi yeshiwas,\n",
    "This is to inform you that\n",
    "you have to re-submmit your proposal\n",
    "on coming week,\n",
    "Thank you.\"\"\"\n",
    "print(email)"
   ]
  },
  {
   "cell_type": "code",
   "execution_count": 24,
   "id": "15165c68",
   "metadata": {},
   "outputs": [
    {
     "name": "stdout",
     "output_type": "stream",
     "text": [
      "y\n",
      "s\n",
      "ytho\n",
      "ython course for beginners\n",
      "pytho\n",
      "python course for beginners\n"
     ]
    }
   ],
   "source": [
    "## Index of the strings\n",
    "course = 'python course for beginners'\n",
    "#index =  0123456                  -1\n",
    "print(course[1])# the second chaacter from left to right\n",
    "print(course[-1]) ### the first character from the right to left\n",
    "print(course[1:5]) ## returns from index 1 to 4, execluding index 5\n",
    "print(course[1:]) ## returns from index 1  to the last\n",
    "print(course[:5]) ## returns from first index   to the 4th index, execluding index 5\n",
    "print(course[:]) ## returns from first index to the last, it copies all the characters "
   ]
  },
  {
   "cell_type": "code",
   "execution_count": 25,
   "id": "3150db15",
   "metadata": {},
   "outputs": [
    {
     "name": "stdout",
     "output_type": "stream",
     "text": [
      "python course for beginners\n"
     ]
    }
   ],
   "source": [
    "### Example 2\n",
    "course = 'python course for beginners'\n",
    "another_course = course[:] ## another_course stores copy of course variable\n",
    "print(another_course)"
   ]
  },
  {
   "cell_type": "markdown",
   "id": "2a71e615",
   "metadata": {},
   "source": [
    "### Formatted Strings"
   ]
  },
  {
   "cell_type": "raw",
   "id": "d6ef74e8",
   "metadata": {},
   "source": [
    "First_name = \"Yeshiwas\"\n",
    "Last_name = \"Dagnaw\"\n",
    "if we want to prtint Yeshiwas [Dagnaw] is a coder,\n",
    "then, the code will be, \n",
    "message = First_name + \"[\"+Last_name+\"]\" + \" is a code\"\n",
    "print(message)\n",
    "but this code is complicated, we have to write in formatted way"
   ]
  },
  {
   "cell_type": "code",
   "execution_count": 31,
   "id": "91d949f5",
   "metadata": {},
   "outputs": [
    {
     "name": "stdout",
     "output_type": "stream",
     "text": [
      "Yeshiwas  [Dagnaw] is a coder\n",
      "Yeshiwas  [Dagnaw] is a coder\n"
     ]
    }
   ],
   "source": [
    "### Solution of te above probelm\n",
    "First_name = \"Yeshiwas\"\n",
    "Last_name = \"Dagnaw\"\n",
    "msg = f\"{First_name}  [{Last_name}] is a coder\" ### method 1\n",
    "print(msg)\n",
    "print(f\"{First_name}  [{Last_name}] is a coder\") ### method 2"
   ]
  },
  {
   "cell_type": "raw",
   "id": "09175103",
   "metadata": {},
   "source": [
    "{First_name}  is a placeholder which holds a value of First_name variable\n",
    "{Last_name} is a placeholder which holds a value of Last_name variable\n",
    "f is a prefix used to define a formatted strings"
   ]
  },
  {
   "cell_type": "markdown",
   "id": "faa1fd64",
   "metadata": {},
   "source": [
    "### String Methods\n",
    "functions that are specific for objects such as strings is called methods <br/>\n",
    "example upper(), lower(), capitalize() , and others are specific functions for strings only, that are called <b>methods.</b><br/>\n",
    "<b> Exaples:</b> <br/>\n",
    "<b>len():</b> general purpose function used to calculate the length of the strings<br/>\n",
    "<b>upper(): </b> to convert strings to upper case<br/>\n",
    "<b>lower(): </b> to convert strings to lower case<br/>\n",
    "<b>replace(): </b> to replace or substitute strings one by another<br/>\n",
    "<b>find(): </b> to find substrings from strings <br/>\n",
    "and aother"
   ]
  },
  {
   "cell_type": "code",
   "execution_count": 1,
   "id": "5ee2fc3f",
   "metadata": {},
   "outputs": [
    {
     "name": "stdout",
     "output_type": "stream",
     "text": [
      "7\n",
      "PYTHON COURSE FOR BEGINNERS\n"
     ]
    }
   ],
   "source": [
    "### Example 1\n",
    "Course = 'Python course for Beginners'\n",
    "find_str = Course.find(\"course\") ### it will return the index of the first character of \"course\", that is c.\n",
    "course_upper = Course.upper() ## to convert into upper case\n",
    "print(find_str)\n",
    "print(course_upper)"
   ]
  },
  {
   "cell_type": "code",
   "execution_count": 3,
   "id": "0939b002",
   "metadata": {},
   "outputs": [
    {
     "name": "stdout",
     "output_type": "stream",
     "text": [
      "4\n"
     ]
    }
   ],
   "source": [
    "### Example 2\n",
    "find_str2= Course.find(\"o\")\n",
    "print(find_str2)"
   ]
  },
  {
   "cell_type": "code",
   "execution_count": 2,
   "id": "97f98acd",
   "metadata": {},
   "outputs": [
    {
     "name": "stdout",
     "output_type": "stream",
     "text": [
      "Python course for Absolute Beginners\n"
     ]
    }
   ],
   "source": [
    "### Example 3\n",
    "replace_str = Course.replace(\"Beginners\", \"Absolute Beginners\") ### it will replace Beginners by beginners\n",
    "print(replace_str)"
   ]
  },
  {
   "cell_type": "markdown",
   "id": "c048a306",
   "metadata": {},
   "source": [
    "### Arthimetic Operations\n",
    "some arthimetic operations are: </br>\n",
    "Addition<br/>\n",
    "Substraction<br/>\n",
    "Multiplication<br/>\n",
    "division: /<br>\n",
    "Integer division: // returns the integer value<br/>\n",
    "Modulus division: % returns the remainder<br/>"
   ]
  },
  {
   "cell_type": "markdown",
   "id": "4a12141d",
   "metadata": {},
   "source": [
    "### Operators precedence\n",
    "<b>():\t</b>Parentheses <br/>\n",
    "**\t:Exponent<br/>\n",
    "+x, -x, ~x\t:Unary plus, Unary minus, Bitwise NOT<br/>\n",
    "*, /, //, %\t:Multiplication, Division, Floor division, Modulus<br/>\n",
    "+, -\t:Addition, Subtraction<br/>\n",
    "<<, >>\t:Bitwise shift operators<br/>\n",
    "&\t:Bitwise AND<br/>\n",
    "^\t:Bitwise XOR<br/>\n",
    "|\t:Bitwise OR<br/>\n",
    "==, !=, >, >=, <, <=, :is, is not, in, not in\tComparisons, Identity, Membership operators<br/>\n",
    "not\t:Logical NOT<br/>\n",
    "and\t:Logical AND<br/>\n",
    "or\t:Logical OR"
   ]
  },
  {
   "cell_type": "markdown",
   "id": "828b2140",
   "metadata": {},
   "source": [
    "### Math Functions "
   ]
  },
  {
   "cell_type": "markdown",
   "id": "e87c28ed",
   "metadata": {},
   "source": [
    "functions that are used to work with numbers. <br/>\n",
    "link <br/>\n",
    "https://docs.python.org/3/library/math.html  <br/>\n",
    "such as \n",
    "<b> math.ceil(x) </b> <br/>\n",
    "Return the ceiling of x, the smallest integer greater than or equal to x. If x is not a float, delegates to x.__ceil__, which should return an Integral value.<br>\n",
    "<b> math.floor(x) </b> <br/>\n",
    "Return the floor of x, the largest integer greater than or equal to x. If x is not a float, delegates to x.__floor__, which should return an Integral value.<br>\n",
    "<b>math.sqrt(x)</b> <br>\n",
    "Return the square root of x.<br/>\n"
   ]
  },
  {
   "cell_type": "code",
   "execution_count": 2,
   "id": "412c8575",
   "metadata": {},
   "outputs": [
    {
     "name": "stdout",
     "output_type": "stream",
     "text": [
      "-2\n",
      "-3\n"
     ]
    }
   ],
   "source": [
    "### Example\n",
    "import math\n",
    "print(math.ceil(-2.9)) ### it will return the smallest integer value of -2.9\n",
    "print(math.floor(-2.9)) ### it will return the largest integer value of -2.9\n"
   ]
  },
  {
   "cell_type": "markdown",
   "id": "4935bc47",
   "metadata": {},
   "source": [
    "### If Statements\n",
    "to execute statement(s) if the condition is TRUE."
   ]
  },
  {
   "cell_type": "raw",
   "id": "7134aa11",
   "metadata": {},
   "source": [
    "exercise #1\n",
    "if it's hot\n",
    "    it's a hot day\n",
    "    drink plenty of water\n",
    "otherwise\n",
    "    it's cold day\n",
    "    wear warm cloths\n",
    "otherwise\n",
    "    it's a lovely day\n",
    "    "
   ]
  },
  {
   "cell_type": "code",
   "execution_count": 12,
   "id": "b7a8c87a",
   "metadata": {},
   "outputs": [
    {
     "name": "stdout",
     "output_type": "stream",
     "text": [
      "It's a hot day\n",
      "Drink plenty of water\n",
      "Enjoy your Day!!\n"
     ]
    }
   ],
   "source": [
    "### solution 1 using booleam\n",
    "is_hot = True\n",
    "is_cold = False\n",
    "if is_hot:\n",
    "    print(\"It's a hot day\")\n",
    "    print(\"Drink plenty of water\")\n",
    "elif is_cold: ### if is_cold is true\n",
    "    print(\"It's cold day\")\n",
    "    print(\"Wear warm cloths\")\n",
    "else: ##if none of the above conditions\n",
    "    print(\"It's a lovely day!\")\n",
    "print(\"Enjoy your Day!!\") ## it will beprinted after the statements are executed\n"
   ]
  },
  {
   "cell_type": "code",
   "execution_count": 11,
   "id": "01a4a7eb",
   "metadata": {},
   "outputs": [
    {
     "name": "stdout",
     "output_type": "stream",
     "text": [
      "Enter the weather(hot or cold) \n",
      "COLD\n",
      "It's cold day\n",
      "Wear warm cloths\n",
      "Enjoy your day!\n"
     ]
    }
   ],
   "source": [
    "### solution 1 using user input\n",
    "weather = input(\"Enter the weather(hot or cold) \\n\").lower()\n",
    "if weather == \"hot\":\n",
    "    print(\"It's a hot day\")\n",
    "    print(\"Drink plenty of water\")\n",
    "elif weather == \"cold\":\n",
    "    print(\"It's cold day\")\n",
    "    print(\"Wear warm cloths\")\n",
    "else:\n",
    "    print(\"it's a lovely day\")\n",
    "print(\"Enjoy your day!\")\n"
   ]
  },
  {
   "cell_type": "raw",
   "id": "3524ba67",
   "metadata": {},
   "source": [
    "### Exercise #2\n",
    "price of a house is $1M.\n",
    "if a buyer has good credit,\n",
    "    they need to put down 10%\n",
    "otherwise,\n",
    "    they need to put down 20%\n",
    "print the down statement"
   ]
  },
  {
   "cell_type": "code",
   "execution_count": 14,
   "id": "5c3d4866",
   "metadata": {},
   "outputs": [
    {
     "name": "stdout",
     "output_type": "stream",
     "text": [
      "Down Payment: $100000.0\n"
     ]
    }
   ],
   "source": [
    "### solution 1\n",
    "price  = 1000000\n",
    "has_good_credit = True\n",
    "if has_good_credit:\n",
    "    down_payment = 0.1 * price\n",
    "else:\n",
    "    down_payment = 0.2 * price\n",
    "print(f\"Down Payment: ${down_payment}\")"
   ]
  },
  {
   "cell_type": "markdown",
   "id": "c89927c6",
   "metadata": {},
   "source": [
    "### Logical operators\n",
    "Logical operators are used to combine conditional statements:<br>\n",
    "<b>and: </b> Returns True if both statements are true <br/>\n",
    "<b>or: </b> Returns True if one of the statements is true <br/>\n",
    "<b>not: </b> Reverse the result, returns False if the result is true\n"
   ]
  },
  {
   "cell_type": "code",
   "execution_count": 2,
   "id": "0644fa53",
   "metadata": {},
   "outputs": [
    {
     "name": "stdout",
     "output_type": "stream",
     "text": [
      "Eligible for loan\n"
     ]
    }
   ],
   "source": [
    "### example 1, and operator\n",
    "## if an applicant has high income AND good credit, he is eligible for loan\n",
    "has_high_income = True\n",
    "has_good_credit = True\n",
    "if has_high_income and has_good_credit: ## both conditions must be true\n",
    "    print(\"Eligible for loan\")"
   ]
  },
  {
   "cell_type": "code",
   "execution_count": 3,
   "id": "22fde0cf",
   "metadata": {},
   "outputs": [
    {
     "name": "stdout",
     "output_type": "stream",
     "text": [
      "Eligible for loan\n"
     ]
    }
   ],
   "source": [
    "### example 2, or operator\n",
    "## if an applicant has high income OR good credit, he is eligible for loan\n",
    "has_high_income = True\n",
    "has_good_credit = False\n",
    "if has_high_income or has_good_credit: ### either of the conditions must be true\n",
    "    print(\"Eligible for loan\")"
   ]
  },
  {
   "cell_type": "code",
   "execution_count": 4,
   "id": "861fc495",
   "metadata": {},
   "outputs": [
    {
     "name": "stdout",
     "output_type": "stream",
     "text": [
      "Eligible for loan\n"
     ]
    }
   ],
   "source": [
    "### Example 3, not operator\n",
    "### if an applicant has a good creddit and doesn't have a criminal record, he is eligible for loan\n",
    "has_good_credit = True\n",
    "hass_criminal_record = False\n",
    "if has_good_credit and not hass_criminal_record:\n",
    "    print(\"Eligible for loan\")"
   ]
  },
  {
   "cell_type": "markdown",
   "id": "99a36826",
   "metadata": {},
   "source": [
    "### comparasion operators "
   ]
  },
  {
   "cell_type": "raw",
   "id": "2ed8dea4",
   "metadata": {},
   "source": [
    "Exercise\n",
    "if temprature is greater than 30\n",
    "     ist's hot day\n",
    "otherwise if it is less than 30\n",
    "    it's a cold day\n",
    "otherwise\n",
    "    it's niether hot or cold day"
   ]
  },
  {
   "cell_type": "code",
   "execution_count": 7,
   "id": "d29d6bd3",
   "metadata": {},
   "outputs": [
    {
     "name": "stdout",
     "output_type": "stream",
     "text": [
      "Enter the Temperature \n",
      "29\n",
      "It's cold day\n"
     ]
    }
   ],
   "source": [
    "### solution 1\n",
    "temprature = input(\"Enter the Temperature \\n\") ### the value will be in string form, so we have to convert into integer value\n",
    "temprature = int(temprature) ### converting string value to integer value\n",
    "if temprature >= 30:\n",
    "    print(\"ist's hot day\")\n",
    "elif temprature < 30:\n",
    "    print(\"It's cold day\")\n",
    "else:\n",
    "    print(\"it's neither hot or cold day\")\n",
    "    \n"
   ]
  },
  {
   "cell_type": "code",
   "execution_count": null,
   "id": "420d313c",
   "metadata": {},
   "outputs": [],
   "source": [
    "Exercise 2\n",
    "if the name is less than 3 characters long\n",
    "    name must be at least 3 characters\n",
    "otherwise if it's more than 50 characters long\n",
    "    name can be a maximum  of 50 characters\n",
    "otherwise\n",
    "     name looks good!"
   ]
  },
  {
   "cell_type": "code",
   "execution_count": 1,
   "id": "6205896a",
   "metadata": {},
   "outputs": [
    {
     "name": "stdin",
     "output_type": "stream",
     "text": [
      "Enter Name:  Yeshiwas\n"
     ]
    },
    {
     "name": "stdout",
     "output_type": "stream",
     "text": [
      "name looks good!\n"
     ]
    }
   ],
   "source": [
    "name = input(\"Enter Name: \")\n",
    "if len(name) < 3:\n",
    "    print(\"name must be at least 3 characters\")\n",
    "elif len(name) > 50:\n",
    "    print(\"name can be a maximum  of 50 characters\")\n",
    "else:\n",
    "    print(\"name looks good!\")"
   ]
  },
  {
   "cell_type": "raw",
   "id": "a5d506b2",
   "metadata": {},
   "source": [
    "Exercise 2 weight convertor\n",
    "weight to pound and vice versa"
   ]
  },
  {
   "cell_type": "code",
   "execution_count": 2,
   "id": "f9874aeb",
   "metadata": {},
   "outputs": [
    {
     "name": "stdin",
     "output_type": "stream",
     "text": [
      "Weight \n",
      " 80\n",
      "(L)bs or (K)g: k\n"
     ]
    },
    {
     "name": "stdout",
     "output_type": "stream",
     "text": [
      "you're 177.77777777777777 pound\n"
     ]
    }
   ],
   "source": [
    "### Solution\n",
    "weight = input(\"Weight \\n\")\n",
    "wg = int(weight)\n",
    "measurement = input(\"(L)bs or (K)g:\").upper() ### to convert measurement to uppercase, to match with conditions\n",
    "if measurement == \"L\":\n",
    "    weight = wg * 0.45\n",
    "    print(f\"you're {weight} kilos\")\n",
    "elif measurement == \"K\":\n",
    "    weight = wg / 0.45\n",
    "    print(f\"you're {weight} pound\")\n"
   ]
  },
  {
   "cell_type": "markdown",
   "id": "d458181e",
   "metadata": {},
   "source": [
    "### While Loop\n",
    "to execute the block of code(s) multiple times untill some condition is false"
   ]
  },
  {
   "cell_type": "code",
   "execution_count": null,
   "id": "db662cdf",
   "metadata": {},
   "outputs": [
    {
     "name": "stdout",
     "output_type": "stream",
     "text": [
      "1\n",
      "2\n",
      "3\n",
      "4\n",
      "5\n",
      "Done\n"
     ]
    }
   ],
   "source": [
    "### Examples\n",
    "i =1 \n",
    "while i<= 5:\n",
    "    print(i)\n",
    "    i = i + 1\n",
    "print(\"Done\")"
   ]
  },
  {
   "cell_type": "code",
   "execution_count": null,
   "id": "b1960860",
   "metadata": {},
   "outputs": [
    {
     "name": "stdout",
     "output_type": "stream",
     "text": [
      "*\n",
      "**\n",
      "***\n",
      "****\n",
      "*****\n",
      "Done\n"
     ]
    }
   ],
   "source": [
    "i = 1\n",
    "while i<= 5:\n",
    "    print('*' * i) ### to multiply * by the i value\n",
    "    i = i + 1\n",
    "print(\"Done\")"
   ]
  },
  {
   "cell_type": "code",
   "execution_count": null,
   "id": "7a34d46d",
   "metadata": {},
   "outputs": [
    {
     "name": "stdout",
     "output_type": "stream",
     "text": [
      "Guess: 7\n",
      "You won!\n",
      "Guess: 5\n",
      "Guess: 8\n"
     ]
    }
   ],
   "source": [
    "## Guess Game\n",
    "secrete_number = 7\n",
    "guess_counter = 0\n",
    "Guess_limit = 3\n",
    "while guess_counter < Guess_limit: ### to guess a maximum of 3 times\n",
    "    guess = int(input(\"Guess: \")) ## to convert the input into integer\n",
    "    guess_counter += 1\n",
    "    if guess == secrete_number:\n",
    "        print(\"You won!\")\n",
    "   "
   ]
  },
  {
   "cell_type": "code",
   "execution_count": null,
   "id": "c904523a",
   "metadata": {},
   "outputs": [
    {
     "name": "stdout",
     "output_type": "stream",
     "text": [
      "Guess: 5\n",
      "Guess: 6\n",
      "Guess: 8\n",
      "Sorry Failed\n"
     ]
    }
   ],
   "source": [
    "### the above program doesn't any feedback when the guess is incorrect in three moves and doesn't terminate even if the guess is correct below three moves\n",
    "secrete_number = 7\n",
    "guess_counter = 0\n",
    "Guess_limit = 3\n",
    "while guess_counter < Guess_limit: ### to guess a maximum of 3 times\n",
    "    guess = int(input(\"Guess: \")) ## to convert the input into integer\n",
    "    guess_counter += 1\n",
    "    if guess == secrete_number:\n",
    "        print(\"You won!\")\n",
    "        break ## to terminate the loop if the guess is correct\n",
    "              \n",
    "else: ### if you are incorrect after trying three times\n",
    "    print(\"Sorry Failed\")"
   ]
  },
  {
   "cell_type": "code",
   "execution_count": null,
   "id": "23e3898d",
   "metadata": {},
   "outputs": [
    {
     "name": "stdout",
     "output_type": "stream",
     "text": [
      "Guess: 7\n",
      "You won!\n"
     ]
    }
   ],
   "source": [
    "### the above program doesn't any feedback when the guess is incorrect in three moves and doesn't terminate even if the guess is correct below three moves\n",
    "secrete_number = 7\n",
    "guess_counter = 0\n",
    "Guess_limit = 3\n",
    "while guess_counter < Guess_limit: ### to guess a maximum of 3 times\n",
    "    guess = int(input(\"Guess: \")) ## to convert the input into integer\n",
    "    guess_counter += 1\n",
    "    if guess == secrete_number:\n",
    "        print(\"You won!\")\n",
    "        break ## to terminate the loop if the guess is correct\n",
    "              \n",
    "else: ### if you are incorrect after trying three times\n",
    "    print(\"Sorry Failed\")\n"
   ]
  },
  {
   "cell_type": "raw",
   "id": "8b042532",
   "metadata": {},
   "source": [
    "### CAR GAME\n",
    "using commands\n",
    "start command - to start the car\n",
    "stop command - to stop the car\n",
    "quit command - to exit"
   ]
  },
  {
   "cell_type": "code",
   "execution_count": null,
   "id": "f6e79267",
   "metadata": {},
   "outputs": [
    {
     "name": "stdout",
     "output_type": "stream",
     "text": [
      ">: start\n"
     ]
    },
    {
     "ename": "SyntaxError",
     "evalue": "'break' outside loop (2030946935.py, line 13)",
     "output_type": "error",
     "traceback": [
      "\u001b[1;36m  File \u001b[1;32m\"C:\\Users\\Administrator\\AppData\\Local\\Temp\\ipykernel_9624\\2030946935.py\"\u001b[1;36m, line \u001b[1;32m13\u001b[0m\n\u001b[1;33m    break\u001b[0m\n\u001b[1;37m    ^\u001b[0m\n\u001b[1;31mSyntaxError\u001b[0m\u001b[1;31m:\u001b[0m 'break' outside loop\n"
     ]
    }
   ],
   "source": [
    "## Solution, my trying\n",
    "\"\"\"\n",
    "start - to start the car\n",
    "stop - to stop the car\n",
    "quit - to exit\n",
    "\"\"\"\n",
    "command = input(\">: \").lower() \n",
    "if command == \"start\":\n",
    "    print(\"Car started... Ready to go !\")\n",
    "elif command == \"stop\":\n",
    "    print(\"Car stopped.\")\n",
    "elif command == \"quit\":\n",
    "    pass\n",
    "else:\n",
    "    print(\"I don't understand that command\")\n"
   ]
  },
  {
   "cell_type": "code",
   "execution_count": null,
   "id": "1d2f021d",
   "metadata": {},
   "outputs": [
    {
     "name": "stdout",
     "output_type": "stream",
     "text": [
      "> start\n",
      "Car started... Ready to go !\n",
      "> stop\n",
      "Car stopped.\n",
      "> quit\n"
     ]
    }
   ],
   "source": [
    "### True solution\n",
    "command = \"\"\n",
    "while command.lower() !=\"quit\":\n",
    "    command = input(\"> \").lower() ### to convert the commands to lower case\n",
    "    if command == \"start\":\n",
    "        print(\"Car started... Ready to go !\")\n",
    "    elif command == \"stop\":\n",
    "        print(\"Car stopped.\")\n",
    "    elif command == \"help\":\n",
    "        print(\"\"\"\n",
    "start - to start the car\n",
    "stop - to stop the car\n",
    "quit - to exit\n",
    "\"\"\")\n",
    "    elif command == \"quit\":\n",
    "        break\n",
    "    else:\n",
    "        print(\"I don't understand that command\")\n"
   ]
  },
  {
   "cell_type": "code",
   "execution_count": null,
   "id": "10eed8ef",
   "metadata": {},
   "outputs": [],
   "source": [
    "#### if we type the command start many times...the car started message will bedisplayed\n",
    "### it doesn't make sense to start a car more than once.\n",
    "### the same for stop command]\n",
    "### SOLUTION"
   ]
  },
  {
   "cell_type": "code",
   "execution_count": null,
   "id": "89963059",
   "metadata": {},
   "outputs": [
    {
     "name": "stdout",
     "output_type": "stream",
     "text": [
      "> start\n",
      "Car is started... let's go !\n",
      "> start\n",
      "Car is already started...!\n",
      "> quit\n"
     ]
    }
   ],
   "source": [
    "### for start command\n",
    "command = \"\"\n",
    "started = False ### set the car is initially stopped\n",
    "while command.lower() !=\"quit\":\n",
    "    command = input(\"> \").lower() ### to convert the commands to lower case\n",
    "    if command == \"start\":\n",
    "        if started: ## if start command is typed before\n",
    "            print(\"Car is already started...!\")\n",
    "        else:\n",
    "            started = True\n",
    "            print(\"Car is started... let's go !\")\n",
    "    elif command == \"stop\":\n",
    "        print(\"Car stopped.\")\n",
    "    elif command == \"help\":\n",
    "        print(\"\"\"\n",
    "start - to start the car\n",
    "stop - to stop the car\n",
    "quit - to exit\n",
    "\"\"\")\n",
    "    elif command == \"quit\":\n",
    "        break\n",
    "    else:\n",
    "        print(\"I don't understand that command\")"
   ]
  },
  {
   "cell_type": "code",
   "execution_count": null,
   "id": "86c0d47d",
   "metadata": {},
   "outputs": [
    {
     "name": "stdout",
     "output_type": "stream",
     "text": [
      "> start\n",
      "Car is started... let's go !\n",
      "> start\n",
      "Car is already started...!\n",
      "> stop\n",
      "Car stopped....!\n",
      "> stop\n",
      "Car is already stopped.\n",
      "> help\n",
      "\n",
      "start - to start the car\n",
      "stop - to stop the car\n",
      "quit - to exit\n",
      "\n",
      "> quit\n"
     ]
    }
   ],
   "source": [
    "### for stop command\n",
    "command = \"\"\n",
    "started = False ### set the car is initially stopped\n",
    "while command.lower() !=\"quit\":\n",
    "    command = input(\"> \").lower() ### to convert the commands to lower case\n",
    "    if command == \"start\":\n",
    "        if started: ## if start command is typed before\n",
    "            print(\"Car is already started...!\")\n",
    "        else:\n",
    "            started = True\n",
    "            print(\"Car is started... let's go !\")\n",
    "    elif command == \"stop\":\n",
    "        if not started: ## if start is false\n",
    "            print(\"Car is already stopped.\")\n",
    "        else:\n",
    "            started = False\n",
    "            print(\"Car stopped....!\")\n",
    "    elif command == \"help\":\n",
    "        print(\"\"\"\n",
    "start - to start the car\n",
    "stop - to stop the car\n",
    "quit - to exit\n",
    "\"\"\")\n",
    "    elif command == \"quit\":\n",
    "        break\n",
    "    else:\n",
    "        print(\"I don't understand that command\")"
   ]
  },
  {
   "cell_type": "code",
   "execution_count": null,
   "id": "b869e8c2",
   "metadata": {},
   "outputs": [
    {
     "name": "stdout",
     "output_type": "stream",
     "text": [
      "> stop\n",
      "Car is already stopped !!!\n",
      "> start\n",
      "Car is started... let's go !\n",
      "> start\n",
      "Car is already started...!\n",
      "> stop\n",
      "Car stopped....!\n",
      "> stop\n",
      "Car is already stopped !!!\n",
      "> quit\n"
     ]
    }
   ],
   "source": [
    "### Rewritten by me\n",
    "command = \"\"\n",
    "started = False ### set the car is initially stopped\n",
    "while command.lower() !=\"quit\":\n",
    "    command = input(\"> \").lower() ### to convert the commands to lower case\n",
    "    if command == \"start\":\n",
    "        if not started: ##  started is initially false\n",
    "            started = True\n",
    "            print(\"Car is started... let's go !\")\n",
    "        else:\n",
    "            print(\"Car is already started...!\")\n",
    "    elif command == \"stop\":\n",
    "        if started: ## started is set to true at line 8, so if started is True\n",
    "            started = False\n",
    "            print(\"Car stopped....!\")\n",
    "        else:\n",
    "            print(\"Car is already stopped !!!\")\n",
    "    elif command == \"help\":\n",
    "        print(\"\"\"\n",
    "start - to start the car\n",
    "stop - to stop the car\n",
    "quit - to exit\n",
    "\"\"\")\n",
    "    elif command == \"quit\":\n",
    "        break\n",
    "    else:\n",
    "        print(\"I don't understand that command\")"
   ]
  },
  {
   "cell_type": "markdown",
   "id": "1fbd5d7e",
   "metadata": {},
   "source": [
    "### For Loops\n",
    "A for loop is used for iterating over a sequence (that is either a list, a tuple, a dictionary, a set, or a string).\n",
    "<br/>\n",
    "With <b> the break statement </b> we can stop the loop before it has looped through all the items:\n",
    "\n",
    "<br/>\n",
    "<b> With the continue statement </b> we can stop the current iteration of the loop, and continue with the next:\n",
    "<br/>\n",
    "<b>The range() function </b> returns a sequence of numbers, starting from 0 by default, and increments by 1 (by default), and ends at a specified number.<br/>\n",
    "N.B: for loops cannot be empty, but if you for some reason have a for loop with no content, put in the <b> pass statement </b> to avoid getting an error."
   ]
  },
  {
   "cell_type": "code",
   "execution_count": null,
   "id": "59074ae8",
   "metadata": {},
   "outputs": [
    {
     "name": "stdout",
     "output_type": "stream",
     "text": [
      "P\n",
      "y\n",
      "t\n",
      "h\n",
      "o\n",
      "n\n",
      "done\n"
     ]
    }
   ],
   "source": [
    "### Examples, strings\n",
    "for item in \"Python\": ### itemm will take \"Python\" string\n",
    "    print(item) ### it will print each character in an item\n",
    "print(\"done\")"
   ]
  },
  {
   "cell_type": "code",
   "execution_count": null,
   "id": "6070dd58",
   "metadata": {},
   "outputs": [
    {
     "name": "stdout",
     "output_type": "stream",
     "text": [
      "Yeshiwas\n",
      "Smri\n",
      "sol\n",
      "...Done...\n"
     ]
    }
   ],
   "source": [
    "### Examples, lists..defined by brackets\n",
    "for item in [\"Yeshiwas\", \"Smri\", \"sol\"]: ### itemm will take lists\n",
    "    print(item) ### it will print each list in an item\n",
    "print(\"...Done...\")"
   ]
  },
  {
   "cell_type": "code",
   "execution_count": null,
   "id": "ddb1b649",
   "metadata": {},
   "outputs": [
    {
     "name": "stdout",
     "output_type": "stream",
     "text": [
      "0\n",
      "1\n",
      "2\n",
      "3\n",
      "4\n",
      "5\n",
      "6\n",
      "7\n",
      "8\n",
      "9\n",
      "...Done...\n"
     ]
    }
   ],
   "source": [
    "### Examples, range..defined by range keyword\n",
    "for item in range (10): ### itemm will take numbers from 0 to 9, not including the last index\n",
    "    print(item) ### it will print each number in an item\n",
    "print(\"...Done...\")"
   ]
  },
  {
   "cell_type": "code",
   "execution_count": null,
   "id": "a9dd02c1",
   "metadata": {},
   "outputs": [
    {
     "name": "stdout",
     "output_type": "stream",
     "text": [
      "5\n",
      "7\n",
      "9\n",
      "...Done...\n"
     ]
    }
   ],
   "source": [
    "### Examples, range..defined by range keyword\n",
    "for item in range (5, 10, 2): ### itemm will take numbers from 5 to 9, not including the last index and jumpping by two steps\n",
    "    print(item) ### it will print each number in an item\n",
    "print(\"...Done...\")"
   ]
  },
  {
   "cell_type": "raw",
   "id": "74f3a192",
   "metadata": {},
   "source": [
    "### Exercise\n",
    "write a program which can calculate the total cost of all the items in the shopping cart"
   ]
  },
  {
   "cell_type": "code",
   "execution_count": null,
   "id": "fb342e0d",
   "metadata": {},
   "outputs": [
    {
     "name": "stdout",
     "output_type": "stream",
     "text": [
      "Total Cost: 426 Birr\n"
     ]
    }
   ],
   "source": [
    "### Solution\n",
    "prices = [10, 120, 200, 96]\n",
    "total = 0\n",
    "for cost in prices:\n",
    "    total = total + cost\n",
    "print(f\"Total Cost: {total} Birr\")"
   ]
  },
  {
   "cell_type": "markdown",
   "id": "96f9f968",
   "metadata": {},
   "source": [
    "#### Nested Loops\n",
    "loops inside another loop"
   ]
  },
  {
   "cell_type": "code",
   "execution_count": null,
   "id": "c252caf9",
   "metadata": {},
   "outputs": [
    {
     "name": "stdout",
     "output_type": "stream",
     "text": [
      "(0, 0)\n",
      "(0, 1)\n",
      "(0, 2)\n",
      "(1, 0)\n",
      "(1, 1)\n",
      "(1, 2)\n",
      "(2, 0)\n",
      "(2, 1)\n",
      "(2, 2)\n",
      "(3, 0)\n",
      "(3, 1)\n",
      "(3, 2)\n"
     ]
    }
   ],
   "source": [
    "### Example\n",
    "for x in range(4):\n",
    "    for y in range(3):\n",
    "        print(f\"({x}, {y})\")"
   ]
  },
  {
   "cell_type": "raw",
   "id": "ec7fcaa8",
   "metadata": {},
   "source": [
    "### Exercise\n",
    "write a program which displays the following patter (F shape)\n",
    "XXXXX\n",
    "XX\n",
    "XXXXX\n",
    "XX\n",
    "XX"
   ]
  },
  {
   "cell_type": "code",
   "execution_count": null,
   "id": "402001b5",
   "metadata": {},
   "outputs": [
    {
     "name": "stdout",
     "output_type": "stream",
     "text": [
      "XXXXX\n",
      "XX\n",
      "XXXXX\n",
      "XX\n",
      "XX\n"
     ]
    }
   ],
   "source": [
    "### Simple solution\n",
    "num = [5, 2, 5, 2, 2]\n",
    "for i in num:\n",
    "    print(\"X\" * i)"
   ]
  },
  {
   "cell_type": "code",
   "execution_count": null,
   "id": "96abef59",
   "metadata": {},
   "outputs": [
    {
     "name": "stdout",
     "output_type": "stream",
     "text": [
      "+++++\n",
      "++\n",
      "+++++\n",
      "++\n",
      "++\n"
     ]
    }
   ],
   "source": [
    "### using nested loop\n",
    "num = [5, 2, 5, 2, 2]\n",
    "for i in num:\n",
    "    output = '' ### to store each number in a list as character\n",
    "    for count in range(i):\n",
    "        output += '+' \n",
    "    print(output)"
   ]
  },
  {
   "cell_type": "markdown",
   "id": "36f814cd",
   "metadata": {},
   "source": [
    "### Lists\n",
    "to manipulate list of objects\n",
    "<br/>\n",
    "defined in square brackets [ ]"
   ]
  },
  {
   "cell_type": "code",
   "execution_count": null,
   "id": "4519775c",
   "metadata": {},
   "outputs": [
    {
     "name": "stdout",
     "output_type": "stream",
     "text": [
      "['yeshiwas', 'gech', 'sol', 'smri']\n"
     ]
    }
   ],
   "source": [
    "### Example\n",
    "names = ['yeshiwas', 'gech', 'sol', 'smri']\n",
    "print(names)"
   ]
  },
  {
   "cell_type": "code",
   "execution_count": null,
   "id": "d7ecd7ab",
   "metadata": {},
   "outputs": [
    {
     "name": "stdout",
     "output_type": "stream",
     "text": [
      "4\n",
      "Length of the list is:  4\n"
     ]
    }
   ],
   "source": [
    "print(len(names))  ## to print length of the list\n",
    "### OR, using loop\n",
    "counter = 0\n",
    "for items in names:\n",
    "    counter += 1\n",
    "print(\"Length of the list is: \", counter)"
   ]
  },
  {
   "cell_type": "code",
   "execution_count": null,
   "id": "2bf3a364",
   "metadata": {},
   "outputs": [
    {
     "name": "stdout",
     "output_type": "stream",
     "text": [
      "yeshiwas\n",
      "Gech\n",
      "sol\n",
      "smri\n"
     ]
    }
   ],
   "source": [
    "### iterating through the list\n",
    "for i in names:\n",
    "    print(i)"
   ]
  },
  {
   "cell_type": "code",
   "execution_count": null,
   "id": "426cfa7a",
   "metadata": {},
   "outputs": [
    {
     "name": "stdout",
     "output_type": "stream",
     "text": [
      "['sol', 'smri']\n",
      "smri\n",
      "['sol', 'smri']\n",
      "['yeshiwas', 'gech', 'sol', 'smri']\n"
     ]
    }
   ],
   "source": [
    "### accessing lists\n",
    "print(names[2:]) ## prints the elements from index 2 to the last\n",
    "print(names[-1]) ## prints the last index from (first from right to left)\n",
    "print(names[2:4]) ## prints the elements from index 2 to the 3rd, execluding the forth\n",
    "print(names[:]) ## prints the elements from the beginning to the end"
   ]
  },
  {
   "cell_type": "code",
   "execution_count": null,
   "id": "c3e7587d",
   "metadata": {},
   "outputs": [
    {
     "name": "stdout",
     "output_type": "stream",
     "text": [
      "['yeshiwas', 'Gech', 'sol', 'smri']\n"
     ]
    }
   ],
   "source": [
    "### modifying lists\n",
    "names[1] = \"Gech\"\n",
    "print(names)"
   ]
  },
  {
   "cell_type": "code",
   "execution_count": null,
   "id": "63898841",
   "metadata": {},
   "outputs": [
    {
     "name": "stdout",
     "output_type": "stream",
     "text": [
      "22\n"
     ]
    }
   ],
   "source": [
    "### Exercise\n",
    "## write a program to find the largest number in the list\n",
    "\n",
    "### solution1\n",
    "nums = [12, 6, 3, 10, 22, 5, 0]\n",
    "largest = nums[0]\n",
    "for maximum in nums:\n",
    "    if maximum > largest:\n",
    "        largest = maximum\n",
    "print(largest)"
   ]
  },
  {
   "cell_type": "markdown",
   "id": "b1785c1b",
   "metadata": {},
   "source": [
    "#### 2D lists\n",
    "list that have two dimensions (rows and columns <br/>\n",
    "a list that contains another list inside it"
   ]
  },
  {
   "cell_type": "code",
   "execution_count": null,
   "id": "7e66d19c",
   "metadata": {},
   "outputs": [],
   "source": [
    "### examle\n",
    "matrix = [\n",
    "    [1, 2, 3],\n",
    "    [4, 5, 6],\n",
    "    [7, 8, 9]\n",
    "]"
   ]
  },
  {
   "cell_type": "code",
   "execution_count": null,
   "id": "726a6067",
   "metadata": {},
   "outputs": [
    {
     "name": "stdout",
     "output_type": "stream",
     "text": [
      "2\n",
      "9\n"
     ]
    }
   ],
   "source": [
    "### Acessing 2D list\n",
    "print(matrix[0][1]) ### row index of 0, and column index of 1, will be 2\n",
    "print(matrix[2][2]) ## row index of 2, and column index of 2, will be 9"
   ]
  },
  {
   "cell_type": "code",
   "execution_count": null,
   "id": "72b700cf",
   "metadata": {},
   "outputs": [
    {
     "name": "stdout",
     "output_type": "stream",
     "text": [
      "[[10, 2, 3], [4, 5, 6], [7, 8, 9]]\n"
     ]
    }
   ],
   "source": [
    "#### Modifyung 2D lists\n",
    "matrix[0][0] = 10 ### row index of 0 , and column index of 0 will be modified by 10\n",
    "print(matrix)"
   ]
  },
  {
   "cell_type": "code",
   "execution_count": null,
   "id": "df8a0fcd",
   "metadata": {},
   "outputs": [
    {
     "name": "stdout",
     "output_type": "stream",
     "text": [
      "10\n",
      "2\n",
      "3\n",
      "4\n",
      "5\n",
      "6\n",
      "7\n",
      "8\n",
      "9\n"
     ]
    }
   ],
   "source": [
    "### iterating througn 2D lists\n",
    "for row in matrix: ## ieterate in individual list\n",
    "    for item in row: ## access each element in each list\n",
    "        print(item)"
   ]
  },
  {
   "cell_type": "markdown",
   "id": "c8dfbc73",
   "metadata": {},
   "source": [
    "### List Methods\n",
    "functions that are used to manipulate (adding elements, deleting elements, modifying elements) lists"
   ]
  },
  {
   "cell_type": "code",
   "execution_count": null,
   "id": "1c1f7bfd",
   "metadata": {},
   "outputs": [
    {
     "name": "stdout",
     "output_type": "stream",
     "text": [
      "[12, 6, 3, 10, 22, 5, 0, 15]\n"
     ]
    }
   ],
   "source": [
    "### example\n",
    "## append(), to add elements to the list at the end\n",
    "nums = [12, 6, 3, 10, 22, 5, 0]\n",
    "nums.append(15) ### to add emelemnt in the list at the end of the list\n",
    "print(nums)"
   ]
  },
  {
   "cell_type": "code",
   "execution_count": null,
   "id": "d24b7b20",
   "metadata": {},
   "outputs": [
    {
     "name": "stdout",
     "output_type": "stream",
     "text": [
      "[4, 12, 6, 3, 10, 30, 22, 5, 0, 15]\n"
     ]
    }
   ],
   "source": [
    "## insert(), to add new item to a specific position \n",
    "nums.insert(0, 4) ## 0 is the position or index, 4 is the element to be added at index 0\n",
    "nums.insert(5, 30) ## 5 is the position or index, 30 is the element to be added at index 5\n",
    "print(nums)"
   ]
  },
  {
   "cell_type": "code",
   "execution_count": null,
   "id": "a6237740",
   "metadata": {},
   "outputs": [
    {
     "name": "stdout",
     "output_type": "stream",
     "text": [
      "[4, 12, 6, 3, 10, 30, 22, 5, 15]\n"
     ]
    }
   ],
   "source": [
    "### remove(), to remove numbers\n",
    "nums.remove(0) ### to remove 0 from the list\n",
    "print(nums)"
   ]
  },
  {
   "cell_type": "code",
   "execution_count": null,
   "id": "36d007fe",
   "metadata": {},
   "outputs": [],
   "source": [
    "### clear(), doesn't take any value, and it  will remove all elements from the list, the list will be empty"
   ]
  },
  {
   "cell_type": "code",
   "execution_count": null,
   "id": "4be4810c",
   "metadata": {},
   "outputs": [
    {
     "name": "stdout",
     "output_type": "stream",
     "text": [
      "[4, 12, 6, 3, 10, 30, 22, 5]\n"
     ]
    }
   ],
   "source": [
    "### pop, to remove the last item from the list\n",
    "nums.pop()\n",
    "print(nums)"
   ]
  },
  {
   "cell_type": "code",
   "execution_count": null,
   "id": "939ebdbf",
   "metadata": {},
   "outputs": [
    {
     "name": "stdout",
     "output_type": "stream",
     "text": [
      "5\n"
     ]
    }
   ],
   "source": [
    "### index(), to check  the existence\n",
    "print(nums.index(30)) ## to check the index of the first appearance of 30"
   ]
  },
  {
   "cell_type": "code",
   "execution_count": null,
   "id": "bbe7c1f3",
   "metadata": {},
   "outputs": [
    {
     "ename": "ValueError",
     "evalue": "40 is not in list",
     "output_type": "error",
     "traceback": [
      "\u001b[1;31m---------------------------------------------------------------------------\u001b[0m",
      "\u001b[1;31mValueError\u001b[0m                                Traceback (most recent call last)",
      "\u001b[1;32m~\\AppData\\Local\\Temp\\ipykernel_2208\\1011807059.py\u001b[0m in \u001b[0;36m<cell line: 2>\u001b[1;34m()\u001b[0m\n\u001b[0;32m      1\u001b[0m \u001b[1;31m## if the value does't exist:\u001b[0m\u001b[1;33m\u001b[0m\u001b[1;33m\u001b[0m\u001b[0m\n\u001b[1;32m----> 2\u001b[1;33m \u001b[0mprint\u001b[0m\u001b[1;33m(\u001b[0m\u001b[0mnums\u001b[0m\u001b[1;33m.\u001b[0m\u001b[0mindex\u001b[0m\u001b[1;33m(\u001b[0m\u001b[1;36m40\u001b[0m\u001b[1;33m)\u001b[0m\u001b[1;33m)\u001b[0m \u001b[1;31m## to check the index of the first appearance of 30\u001b[0m\u001b[1;33m\u001b[0m\u001b[1;33m\u001b[0m\u001b[0m\n\u001b[0m",
      "\u001b[1;31mValueError\u001b[0m: 40 is not in list"
     ]
    }
   ],
   "source": [
    "## if the value does't exist:\n",
    "print(nums.index(40)) ## to check the index of the first appearance of 30"
   ]
  },
  {
   "cell_type": "code",
   "execution_count": null,
   "id": "222e0a6c",
   "metadata": {},
   "outputs": [
    {
     "name": "stdout",
     "output_type": "stream",
     "text": [
      "40 False\n"
     ]
    }
   ],
   "source": [
    "### in(), to check  the existence of number or sequence of numbers\n",
    "print(40 in nums)"
   ]
  },
  {
   "cell_type": "code",
   "execution_count": null,
   "id": "6038b993",
   "metadata": {},
   "outputs": [],
   "source": [
    "### count(), to check the number of occurances of a number"
   ]
  },
  {
   "cell_type": "code",
   "execution_count": null,
   "id": "a2e4f478",
   "metadata": {},
   "outputs": [
    {
     "name": "stdout",
     "output_type": "stream",
     "text": [
      "2\n"
     ]
    }
   ],
   "source": [
    "nums = [4, 12, 6, 3, 10, 4, 30, 22, 5]\n",
    "print(nums.count(4))"
   ]
  },
  {
   "cell_type": "code",
   "execution_count": null,
   "id": "623cbd06",
   "metadata": {},
   "outputs": [
    {
     "name": "stdout",
     "output_type": "stream",
     "text": [
      "None\n",
      "[3, 4, 4, 5, 6, 10, 12, 22, 30]\n"
     ]
    }
   ],
   "source": [
    "### sort(), to sort the elements in the list in ascending order\n",
    "print(nums.sort()) ## sort doesn't have return value\n",
    "nums.sort\n",
    "print(nums)"
   ]
  },
  {
   "cell_type": "code",
   "execution_count": null,
   "id": "bb649a30",
   "metadata": {},
   "outputs": [
    {
     "name": "stdout",
     "output_type": "stream",
     "text": [
      "[30, 22, 12, 10, 6, 5, 4, 4, 3]\n"
     ]
    }
   ],
   "source": [
    "### reverse(), to sort the elements in the list in descending order\n",
    "nums.reverse()\n",
    "print(nums)"
   ]
  },
  {
   "cell_type": "code",
   "execution_count": null,
   "id": "937645ca",
   "metadata": {},
   "outputs": [
    {
     "name": "stdout",
     "output_type": "stream",
     "text": [
      "[30, 22, 12, 10, 6, 5, 4, 4, 3]\n"
     ]
    }
   ],
   "source": [
    "### copy(), to copy of the list\n",
    "nums2 = nums.copy()\n",
    "print(nums2)\n",
    " ### N.B: the operation in the original list doesn't affect the second list"
   ]
  },
  {
   "cell_type": "code",
   "execution_count": null,
   "id": "5090b555",
   "metadata": {},
   "outputs": [],
   "source": [
    "### exercise\n",
    "# write a program to remove the duplicates in the list\n"
   ]
  },
  {
   "cell_type": "code",
   "execution_count": null,
   "id": "96cfabcf",
   "metadata": {},
   "outputs": [
    {
     "name": "stdout",
     "output_type": "stream",
     "text": [
      "[6, 30, 22, 12, 10, 5, 4, 3]\n"
     ]
    }
   ],
   "source": [
    "num2 = [6, 30, 22, 12, 10, 6, 5, 4, 3, 4]\n",
    "uniques = [] # a list which will store unique elements\n",
    "\n",
    "for number in num2:\n",
    "    if number not in uniques:\n",
    "        uniques.append(number)\n",
    "print(uniques)"
   ]
  },
  {
   "cell_type": "markdown",
   "id": "93bdcc96",
   "metadata": {},
   "source": [
    "### Tuples\n",
    "store elements like lists, but we can't modify the elements in the list\n",
    "<br/>\n",
    "we can't add, remove, or mutate (change) the items\n",
    "<br/>\n",
    "defined in parenthesis ()"
   ]
  },
  {
   "cell_type": "code",
   "execution_count": null,
   "id": "95f70d28",
   "metadata": {},
   "outputs": [
    {
     "ename": "TypeError",
     "evalue": "'tuple' object does not support item assignment",
     "output_type": "error",
     "traceback": [
      "\u001b[1;31m---------------------------------------------------------------------------\u001b[0m",
      "\u001b[1;31mTypeError\u001b[0m                                 Traceback (most recent call last)",
      "\u001b[1;32m~\\AppData\\Local\\Temp\\ipykernel_2208\\812093414.py\u001b[0m in \u001b[0;36m<cell line: 3>\u001b[1;34m()\u001b[0m\n\u001b[0;32m      1\u001b[0m \u001b[1;31m### examples\u001b[0m\u001b[1;33m\u001b[0m\u001b[1;33m\u001b[0m\u001b[0m\n\u001b[0;32m      2\u001b[0m \u001b[0mnumbers\u001b[0m \u001b[1;33m=\u001b[0m \u001b[1;33m(\u001b[0m\u001b[1;36m1\u001b[0m\u001b[1;33m,\u001b[0m \u001b[1;36m2\u001b[0m\u001b[1;33m,\u001b[0m \u001b[1;36m3\u001b[0m\u001b[1;33m)\u001b[0m\u001b[1;33m\u001b[0m\u001b[1;33m\u001b[0m\u001b[0m\n\u001b[1;32m----> 3\u001b[1;33m \u001b[0mnumbers\u001b[0m\u001b[1;33m[\u001b[0m\u001b[1;36m0\u001b[0m\u001b[1;33m]\u001b[0m \u001b[1;33m=\u001b[0m \u001b[1;36m10\u001b[0m\u001b[1;33m\u001b[0m\u001b[1;33m\u001b[0m\u001b[0m\n\u001b[0m\u001b[0;32m      4\u001b[0m \u001b[0mprint\u001b[0m\u001b[1;33m(\u001b[0m\u001b[0mnumbers\u001b[0m\u001b[1;33m)\u001b[0m\u001b[1;33m\u001b[0m\u001b[1;33m\u001b[0m\u001b[0m\n",
      "\u001b[1;31mTypeError\u001b[0m: 'tuple' object does not support item assignment"
     ]
    }
   ],
   "source": [
    "### examples\n",
    "numbers = (1, 2, 3)\n",
    "numbers[0] = 10\n",
    "print(numbers)"
   ]
  },
  {
   "cell_type": "code",
   "execution_count": null,
   "id": "2baf4b73",
   "metadata": {},
   "outputs": [
    {
     "name": "stdout",
     "output_type": "stream",
     "text": [
      "1\n"
     ]
    }
   ],
   "source": [
    "### accessing items\n",
    "print(numbers[0])"
   ]
  },
  {
   "cell_type": "markdown",
   "id": "c70ba568",
   "metadata": {},
   "source": [
    "### Unpacking\n",
    "unpacking lists and tuples"
   ]
  },
  {
   "cell_type": "code",
   "execution_count": null,
   "id": "04b3369e",
   "metadata": {},
   "outputs": [],
   "source": [
    "coordinates = (1, 2, 3) ### x, y, z\n",
    "### to multiply the utems in coordinates \n",
    "mult = coordinates[0] * coordinates[1] * coordinates[2]\n",
    "### OR\n",
    "x = coordinates[0]\n",
    "y = coordinates[1]\n",
    "z = coordinates[2]\n",
    "result = x * y * z\n",
    "### this is so boring, because the coordinates variable is repeated many time\n",
    "### to remove this, we need to use unpacking"
   ]
  },
  {
   "cell_type": "code",
   "execution_count": null,
   "id": "5cac929e",
   "metadata": {},
   "outputs": [
    {
     "name": "stdout",
     "output_type": "stream",
     "text": [
      "1\n"
     ]
    }
   ],
   "source": [
    "### unpacking\n",
    "x, y, z = coordinates\n",
    "## the interperes assigns the first element in the tupel to the first variable, second element to the second variable, and the third element to the third variable\n",
    "print(x)"
   ]
  },
  {
   "cell_type": "markdown",
   "id": "12e7a346",
   "metadata": {},
   "source": [
    "### Dictionaries\n",
    "to store information that has key-value pairs <br/>\n",
    "each key is unique, no the same key is allowed"
   ]
  },
  {
   "cell_type": "code",
   "execution_count": null,
   "id": "9e83e643",
   "metadata": {},
   "outputs": [],
   "source": [
    "### Example. customer information\n",
    "customer = {\n",
    "    \"name\": \"Yeshiwas Dagnaw\",\n",
    "    \"age\": 27,\n",
    "    \"is_verified\": True\n",
    "}"
   ]
  },
  {
   "cell_type": "code",
   "execution_count": null,
   "id": "df5a8320",
   "metadata": {},
   "outputs": [
    {
     "name": "stdout",
     "output_type": "stream",
     "text": [
      "Yeshiwas Dagnaw\n"
     ]
    }
   ],
   "source": [
    "### Acessing the dictionary\n",
    "### using key-name\n",
    "print(customer[\"name\"])"
   ]
  },
  {
   "cell_type": "code",
   "execution_count": null,
   "id": "9feb4f4c",
   "metadata": {},
   "outputs": [
    {
     "ename": "KeyError",
     "evalue": "'birthdate'",
     "output_type": "error",
     "traceback": [
      "\u001b[1;31m---------------------------------------------------------------------------\u001b[0m",
      "\u001b[1;31mKeyError\u001b[0m                                  Traceback (most recent call last)",
      "\u001b[1;32m~\\AppData\\Local\\Temp\\ipykernel_2208\\1793960163.py\u001b[0m in \u001b[0;36m<cell line: 2>\u001b[1;34m()\u001b[0m\n\u001b[0;32m      1\u001b[0m \u001b[1;31m### what is the key doesn't exist\u001b[0m\u001b[1;33m\u001b[0m\u001b[1;33m\u001b[0m\u001b[0m\n\u001b[1;32m----> 2\u001b[1;33m \u001b[0mprint\u001b[0m\u001b[1;33m(\u001b[0m\u001b[0mcustomer\u001b[0m\u001b[1;33m[\u001b[0m\u001b[1;34m\"birthdate\"\u001b[0m\u001b[1;33m]\u001b[0m\u001b[1;33m)\u001b[0m\u001b[1;33m\u001b[0m\u001b[1;33m\u001b[0m\u001b[0m\n\u001b[0m",
      "\u001b[1;31mKeyError\u001b[0m: 'birthdate'"
     ]
    }
   ],
   "source": [
    "### what is the key doesn't exist\n",
    "print(customer[\"birthdate\"]) ### it will print keyerror"
   ]
  },
  {
   "cell_type": "code",
   "execution_count": null,
   "id": "b76923d7",
   "metadata": {},
   "outputs": [
    {
     "name": "stdout",
     "output_type": "stream",
     "text": [
      "Yeshiwas Dagnaw\n"
     ]
    }
   ],
   "source": [
    "print(customer.get(\"name\"))"
   ]
  },
  {
   "cell_type": "code",
   "execution_count": null,
   "id": "f1b7fed3",
   "metadata": {},
   "outputs": [
    {
     "name": "stdout",
     "output_type": "stream",
     "text": [
      "None\n"
     ]
    }
   ],
   "source": [
    "### what is the key doesn't exist\n",
    "print(customer.get(\"birthdate\")) ## it will print noen, instead of keyerror"
   ]
  },
  {
   "cell_type": "code",
   "execution_count": null,
   "id": "cdb34958",
   "metadata": {},
   "outputs": [
    {
     "name": "stdout",
     "output_type": "stream",
     "text": [
      "March 15 1995\n"
     ]
    }
   ],
   "source": [
    "### Setting defalut value\n",
    "print(customer.get(\"birthdate\", \"March 15 1995\"))"
   ]
  },
  {
   "cell_type": "code",
   "execution_count": null,
   "id": "431ad0e5",
   "metadata": {},
   "outputs": [
    {
     "name": "stdout",
     "output_type": "stream",
     "text": [
      "Yeshiwas Dagnaw Alemu\n"
     ]
    }
   ],
   "source": [
    "### Modifying the values\n",
    "customer[\"name\"] = \"Yeshiwas Dagnaw Alemu\"\n",
    "print(customer[\"name\"])"
   ]
  },
  {
   "cell_type": "code",
   "execution_count": null,
   "id": "5231943d",
   "metadata": {},
   "outputs": [
    {
     "name": "stdout",
     "output_type": "stream",
     "text": [
      "Mar 15 1995\n"
     ]
    }
   ],
   "source": [
    "### Adding new key_value pairs\n",
    "customer[\"birthdate\"] = \"Mar 15 1995\"\n",
    "print(customer[\"birthdate\"])"
   ]
  },
  {
   "cell_type": "code",
   "execution_count": null,
   "id": "2d322be7",
   "metadata": {},
   "outputs": [],
   "source": [
    "### Exercise\n",
    "# Write a program which recieves phone number and translates into texts/letters, such as 1234 : one two three "
   ]
  },
  {
   "cell_type": "code",
   "execution_count": null,
   "id": "8760c111",
   "metadata": {},
   "outputs": [
    {
     "name": "stdout",
     "output_type": "stream",
     "text": [
      "Phone:1467\n",
      "One Four Six Seven \n"
     ]
    }
   ],
   "source": [
    "#### solution\n",
    "phone_digit = {\n",
    "    \"0\": \"Zero\",\n",
    "    \"1\": \"One\",\n",
    "    \"2\": \"Two\",\n",
    "    \"3\": \"Three\",\n",
    "    \"4\": \"Four\",\n",
    "    \"5\": \"Five\",\n",
    "    \"6\": \"Six\",\n",
    "    \"7\": \"Seven\",\n",
    "    \"8\": \"Eight\",\n",
    "    \"9\": \"Nine\"\n",
    "}\n",
    "output = \"\" ### variable to store the output\n",
    "phone = input(\"Phone:\")\n",
    "for num in phone:\n",
    "    output += phone_digit.get(num, \"!\") + \" \" ### \"!\" is the entered input is not match with the key in phone_digit\n",
    "print(output)"
   ]
  },
  {
   "cell_type": "code",
   "execution_count": null,
   "id": "91885af8",
   "metadata": {},
   "outputs": [
    {
     "name": "stdout",
     "output_type": "stream",
     "text": [
      "Phone:0932920939\n",
      "ዜሮ ዘጠኝ ሶስት ሁለት ዘጠኝ ሁለት ዜሮ ዘጠኝ ሶስት ዘጠኝ \n"
     ]
    }
   ],
   "source": [
    "### digits translation in Amharic\n",
    "\n",
    "phone_amharic = {\n",
    "    \"0\": \"ዜሮ\",\n",
    "    \"1\": \"አንድ\",\n",
    "    \"2\": \"ሁለት\",\n",
    "    \"3\": \"ሶስት\",\n",
    "    \"4\": \"አራት\",\n",
    "    \"5\": \"አምስት\",\n",
    "    \"6\": \"ስድስት\",\n",
    "    \"7\": \"ሰባት\",\n",
    "    \"8\": \"ስምንት\",\n",
    "    \"9\": \"ዘጠኝ\"\n",
    "}\n",
    "output = \"\" ### variable to store the output\n",
    "phone = input(\"Phone:\")\n",
    "for num in phone:\n",
    "    output += phone_amharic.get(num, \"!\") + \" \" ### \"!\" is the entered input is not match with the key in phone_digit\n",
    "print(output)"
   ]
  },
  {
   "cell_type": "code",
   "execution_count": null,
   "id": "43072468",
   "metadata": {},
   "outputs": [
    {
     "name": "stdout",
     "output_type": "stream",
     "text": [
      "> Hello am so happy :)\n",
      "Hello am so happy 😀 \n"
     ]
    }
   ],
   "source": [
    "#### Emoji Converter \n",
    "import emoji\n",
    "message = input(\"> \")\n",
    "words = message.split(\" \") ## splitting by space\n",
    "emojis = {\n",
    "    \":)\": emoji.emojize(':grinning_face:'),\n",
    "    \"(:)\" : emoji.emojize(':pensive_face:')\n",
    "}\n",
    "\n",
    "output = \"\" \n",
    "for word in words:\n",
    "    output += emojis.get(word, word) + \" \" ### if word is not found in emojies, return the word itself\n",
    "print(output)"
   ]
  },
  {
   "cell_type": "markdown",
   "id": "d398a6a7",
   "metadata": {},
   "source": [
    "### Functions\n",
    "functions are containers for a few lines of codes that perform a specific task <br/>\n",
    "defined by <b>def </b> keyword"
   ]
  },
  {
   "cell_type": "code",
   "execution_count": null,
   "id": "039f036a",
   "metadata": {},
   "outputs": [
    {
     "name": "stdout",
     "output_type": "stream",
     "text": [
      "...................\n",
      "Hello There!\n",
      "Welcome to python functions\n",
      "...................\n"
     ]
    }
   ],
   "source": [
    "### Examples\n",
    "def greetings():\n",
    "    print(\"Hello There!\")\n",
    "    print(\"Welcome to python functions\")\n",
    "### the above lines of codes will be executed wehen the function (greetings()) is called\n",
    "print(\"...................\")\n",
    "greetings()\n",
    "print(\"...................\")"
   ]
  },
  {
   "cell_type": "markdown",
   "id": "5ddb865e",
   "metadata": {},
   "source": [
    "### Parameters\n",
    "to pass information to the functins"
   ]
  },
  {
   "cell_type": "code",
   "execution_count": null,
   "id": "b1063219",
   "metadata": {},
   "outputs": [
    {
     "name": "stdout",
     "output_type": "stream",
     "text": [
      "...................\n",
      "Hello Yeshiwas!\n",
      "Welcome to python functions\n",
      "...................\n"
     ]
    }
   ],
   "source": [
    "def greetings(name): ### name is a parameter\n",
    "    print(f\"Hello {name}!\")\n",
    "    print(\"Welcome to python functions\")\n",
    "print(\"...................\")\n",
    "greetings(\"Yeshiwas\")\n",
    "print(\"...................\")"
   ]
  },
  {
   "cell_type": "code",
   "execution_count": null,
   "id": "7f2bd239",
   "metadata": {},
   "outputs": [
    {
     "name": "stdout",
     "output_type": "stream",
     "text": [
      "...................\n",
      "Hello Yeshiwas!\n",
      "Welcome to python functions\n",
      "Hello Getachew!\n",
      "Welcome to python functions\n",
      "...................\n"
     ]
    }
   ],
   "source": [
    "def greetings(name): ### name is a parameter\n",
    "    print(f\"Hello {name}!\")\n",
    "    print(\"Welcome to python functions\")\n",
    "print(\"...................\")\n",
    "greetings(\"Yeshiwas\")\n",
    "greetings(\"Getachew\")\n",
    "print(\"...................\")"
   ]
  },
  {
   "cell_type": "code",
   "execution_count": null,
   "id": "8fa1a5bb",
   "metadata": {},
   "outputs": [
    {
     "name": "stdout",
     "output_type": "stream",
     "text": [
      "...................\n",
      "Hello Yeshiwas Dagnaw!\n",
      "Welcome to python functions\n",
      "Hello Getachew Terefe!\n",
      "Welcome to python functions\n",
      "...................\n"
     ]
    }
   ],
   "source": [
    "### multile parameters\n",
    "def greetings(first_name, last_name): ### name is a parameter\n",
    "    print(f\"Hello {first_name} {last_name}!\")\n",
    "    print(\"Welcome to python functions\")\n",
    "print(\"...................\")\n",
    "greetings(\"Yeshiwas\", \"Dagnaw\")\n",
    "greetings(\"Getachew\", \"Terefe\")\n",
    "print(\"...................\")"
   ]
  },
  {
   "cell_type": "code",
   "execution_count": null,
   "id": "ce9d1672",
   "metadata": {},
   "outputs": [
    {
     "name": "stdout",
     "output_type": "stream",
     "text": [
      "...................\n",
      "Hello Yeshiwas Dagnaw!\n",
      "Welcome to python functions\n"
     ]
    },
    {
     "ename": "TypeError",
     "evalue": "greetings() missing 2 required positional arguments: 'first_name' and 'last_name'",
     "output_type": "error",
     "traceback": [
      "\u001b[1;31m---------------------------------------------------------------------------\u001b[0m",
      "\u001b[1;31mTypeError\u001b[0m                                 Traceback (most recent call last)",
      "\u001b[1;32m~\\AppData\\Local\\Temp\\ipykernel_11152\\1603191488.py\u001b[0m in \u001b[0;36m<cell line: 8>\u001b[1;34m()\u001b[0m\n\u001b[0;32m      6\u001b[0m \u001b[0mprint\u001b[0m\u001b[1;33m(\u001b[0m\u001b[1;34m\"...................\"\u001b[0m\u001b[1;33m)\u001b[0m\u001b[1;33m\u001b[0m\u001b[1;33m\u001b[0m\u001b[0m\n\u001b[0;32m      7\u001b[0m \u001b[0mgreetings\u001b[0m\u001b[1;33m(\u001b[0m\u001b[1;34m\"Yeshiwas\"\u001b[0m\u001b[1;33m,\u001b[0m \u001b[1;34m\"Dagnaw\"\u001b[0m\u001b[1;33m)\u001b[0m\u001b[1;33m\u001b[0m\u001b[1;33m\u001b[0m\u001b[0m\n\u001b[1;32m----> 8\u001b[1;33m \u001b[0mgreetings\u001b[0m\u001b[1;33m(\u001b[0m\u001b[1;33m)\u001b[0m\u001b[1;33m\u001b[0m\u001b[1;33m\u001b[0m\u001b[0m\n\u001b[0m\u001b[0;32m      9\u001b[0m \u001b[0mprint\u001b[0m\u001b[1;33m(\u001b[0m\u001b[1;34m\"...................\"\u001b[0m\u001b[1;33m)\u001b[0m\u001b[1;33m\u001b[0m\u001b[1;33m\u001b[0m\u001b[0m\n",
      "\u001b[1;31mTypeError\u001b[0m: greetings() missing 2 required positional arguments: 'first_name' and 'last_name'"
     ]
    }
   ],
   "source": [
    "### what if the value (argument) is not given\n",
    "### multile parameters\n",
    "def greetings(first_name, last_name): ### name is a parameter\n",
    "    print(f\"Hello {first_name} {last_name}!\")\n",
    "    print(\"Welcome to python functions\")\n",
    "print(\"...................\")\n",
    "greetings(\"Yeshiwas\", \"Dagnaw\")\n",
    "greetings()\n",
    "print(\"...................\")"
   ]
  },
  {
   "cell_type": "code",
   "execution_count": null,
   "id": "638a7f54",
   "metadata": {},
   "outputs": [],
   "source": [
    "### positional arguments: 'first_name' and 'last_name', means the position or the order of the arguments matters"
   ]
  },
  {
   "cell_type": "code",
   "execution_count": null,
   "id": "33643b83",
   "metadata": {},
   "outputs": [
    {
     "name": "stdout",
     "output_type": "stream",
     "text": [
      "...................\n",
      "Hello Dagnaw Yeshiwas!\n",
      "Welcome to python functions\n",
      "Hello Getachew Terefe!\n",
      "Welcome to python functions\n",
      "...................\n"
     ]
    }
   ],
   "source": [
    "### Example\n",
    "def greetings(first_name, last_name): ### name is a parameter\n",
    "    print(f\"Hello {first_name} {last_name}!\")\n",
    "    print(\"Welcome to python functions\")\n",
    "print(\"...................\")\n",
    "greetings(\"Dagnaw\", \"Yeshiwas\") ### Dagnaw will be assigned for first_name, and Yeshiwas will be assigned for last_name\n",
    "greetings(\"Getachew\", \"Terefe\")\n",
    "print(\"...................\")"
   ]
  },
  {
   "cell_type": "markdown",
   "id": "5947f97c",
   "metadata": {},
   "source": [
    "### Parameters vs arguments\n",
    "<b>parameters:</b> placeholders that are used for recieving information <br/>\n",
    "<b>arguments :</b> actual piece of information (value) that we supply for the function"
   ]
  },
  {
   "cell_type": "markdown",
   "id": "66e7678f",
   "metadata": {},
   "source": [
    "### Keyword Arguments\n",
    "to store any value or argument in any position or order  <br/>\n",
    "they are more require when the function takes numerical values"
   ]
  },
  {
   "cell_type": "code",
   "execution_count": null,
   "id": "b63beb01",
   "metadata": {},
   "outputs": [
    {
     "name": "stdout",
     "output_type": "stream",
     "text": [
      "...................\n",
      "Hello Yeshiwas Dagnaw!\n",
      "Welcome to python functions\n",
      "Hello Getachew Terefe!\n",
      "Welcome to python functions\n",
      "...................\n"
     ]
    }
   ],
   "source": [
    "### Example\n",
    "def greetings(first_name, last_name): ### name is a parameter\n",
    "    print(f\"Hello {first_name} {last_name}!\")\n",
    "    print(\"Welcome to python functions\")\n",
    "print(\"...................\")\n",
    "greetings(last_name=\"Dagnaw\", first_name=\"Yeshiwas\") ### Dagnaw will be assigned for last_name, and Yeshiwas will be assigned for first_name\n",
    "greetings(first_name=\"Getachew\", last_name=\"Terefe\") ###  Getachew will be assigned for first_name, Terefe will be assigned for last_name\n",
    "print(\"...................\")"
   ]
  },
  {
   "cell_type": "markdown",
   "id": "3655cfad",
   "metadata": {},
   "source": [
    "### Return statement\n",
    "to retun the result of a function"
   ]
  },
  {
   "cell_type": "code",
   "execution_count": null,
   "id": "8c9b44bc",
   "metadata": {},
   "outputs": [
    {
     "name": "stdout",
     "output_type": "stream",
     "text": [
      "16\n"
     ]
    }
   ],
   "source": [
    "## example \n",
    "def square(num):\n",
    "    return num * num\n",
    "print(square(4))"
   ]
  },
  {
   "cell_type": "code",
   "execution_count": null,
   "id": "8bd9693e",
   "metadata": {},
   "outputs": [
    {
     "name": "stdout",
     "output_type": "stream",
     "text": [
      "16\n",
      "None\n"
     ]
    }
   ],
   "source": [
    "## what if no retun statement for the above function\n",
    "def square(num):\n",
    "    print(num * num)\n",
    "print(square(4))\n",
    "\n",
    "## if the function has no retun statement, the function will return None"
   ]
  },
  {
   "cell_type": "markdown",
   "id": "518c79d5",
   "metadata": {},
   "source": [
    "### Creating reusabe function"
   ]
  },
  {
   "cell_type": "code",
   "execution_count": null,
   "id": "856decc4",
   "metadata": {},
   "outputs": [
    {
     "name": "stdout",
     "output_type": "stream",
     "text": [
      "> Hello There :)\n",
      "Hello There 😀 \n"
     ]
    }
   ],
   "source": [
    "import emoji\n",
    "def emoji_converter(message):\n",
    "    words = message.split(\" \") ## splitting by space\n",
    "    emojis = {\n",
    "        \":)\": emoji.emojize(':grinning_face:'),\n",
    "        \"(:)\" : emoji.emojize(':pensive_face:')\n",
    "    }\n",
    "    output = \"\" \n",
    "    for word in words:\n",
    "        output += emojis.get(word, word) + \" \" ### if word is not found in emojies, return the word itself\n",
    "    \n",
    "    return output\n",
    "        \n",
    "message = input(\"> \")\n",
    "result = emoji_converter(message) ### reused function\n",
    "print(result)"
   ]
  },
  {
   "cell_type": "markdown",
   "id": "9a198f04",
   "metadata": {},
   "source": [
    "### Exceptions\n",
    "To handle errors in the program\n",
    "<br/>\n",
    "try: <br/>\n",
    "&nbsp; &nbsp; &nbsp;.... <br/>\n",
    "exception Error_type: <br/>\n",
    "&nbsp; &nbsp; &nbsp;......\n"
   ]
  },
  {
   "cell_type": "code",
   "execution_count": null,
   "id": "366917e4",
   "metadata": {},
   "outputs": [
    {
     "name": "stdout",
     "output_type": "stream",
     "text": [
      "Age 23\n",
      "23\n"
     ]
    }
   ],
   "source": [
    "### Example\n",
    "age = int(input(\"Age \"))\n",
    "print(age)"
   ]
  },
  {
   "cell_type": "code",
   "execution_count": null,
   "id": "2972ce7c",
   "metadata": {},
   "outputs": [
    {
     "name": "stdout",
     "output_type": "stream",
     "text": [
      "Age abc\n"
     ]
    },
    {
     "ename": "ValueError",
     "evalue": "invalid literal for int() with base 10: 'abc'",
     "output_type": "error",
     "traceback": [
      "\u001b[1;31m---------------------------------------------------------------------------\u001b[0m",
      "\u001b[1;31mValueError\u001b[0m                                Traceback (most recent call last)",
      "\u001b[1;32m~\\AppData\\Local\\Temp\\ipykernel_11576\\2837082168.py\u001b[0m in \u001b[0;36m<cell line: 2>\u001b[1;34m()\u001b[0m\n\u001b[0;32m      1\u001b[0m \u001b[1;31m## What if we give non-numerical values for age\u001b[0m\u001b[1;33m\u001b[0m\u001b[1;33m\u001b[0m\u001b[0m\n\u001b[1;32m----> 2\u001b[1;33m \u001b[0mage\u001b[0m \u001b[1;33m=\u001b[0m \u001b[0mint\u001b[0m\u001b[1;33m(\u001b[0m\u001b[0minput\u001b[0m\u001b[1;33m(\u001b[0m\u001b[1;34m\"Age \"\u001b[0m\u001b[1;33m)\u001b[0m\u001b[1;33m)\u001b[0m\u001b[1;33m\u001b[0m\u001b[1;33m\u001b[0m\u001b[0m\n\u001b[0m\u001b[0;32m      3\u001b[0m \u001b[0mprint\u001b[0m\u001b[1;33m(\u001b[0m\u001b[0mage\u001b[0m\u001b[1;33m)\u001b[0m\u001b[1;33m\u001b[0m\u001b[1;33m\u001b[0m\u001b[0m\n",
      "\u001b[1;31mValueError\u001b[0m: invalid literal for int() with base 10: 'abc'"
     ]
    }
   ],
   "source": [
    "## What if we give non-numerical values for age\n",
    "age = int(input(\"Age \"))\n",
    "print(age)"
   ]
  },
  {
   "cell_type": "code",
   "execution_count": null,
   "id": "6878707b",
   "metadata": {},
   "outputs": [
    {
     "name": "stdout",
     "output_type": "stream",
     "text": [
      "Age abc\n",
      "Invalid Value\n"
     ]
    }
   ],
   "source": [
    "### we have got a proble, which is ValueError. it crushes the program\n",
    "### so that we have to hadle tis error using exception, to prevent a program from crushing\n",
    "try:\n",
    "    age = int(input(\"Age \"))\n",
    "    print(age)\n",
    "except ValueError:\n",
    "    print(\"Invalid Value\")"
   ]
  },
  {
   "cell_type": "code",
   "execution_count": null,
   "id": "dba68f6d",
   "metadata": {},
   "outputs": [
    {
     "name": "stdout",
     "output_type": "stream",
     "text": [
      "Age 0\n"
     ]
    },
    {
     "ename": "ZeroDivisionError",
     "evalue": "division by zero",
     "output_type": "error",
     "traceback": [
      "\u001b[1;31m---------------------------------------------------------------------------\u001b[0m",
      "\u001b[1;31mZeroDivisionError\u001b[0m                         Traceback (most recent call last)",
      "\u001b[1;32m~\\AppData\\Local\\Temp\\ipykernel_11576\\1352948555.py\u001b[0m in \u001b[0;36m<cell line: 2>\u001b[1;34m()\u001b[0m\n\u001b[0;32m      3\u001b[0m     \u001b[0mage\u001b[0m \u001b[1;33m=\u001b[0m \u001b[0mint\u001b[0m\u001b[1;33m(\u001b[0m\u001b[0minput\u001b[0m\u001b[1;33m(\u001b[0m\u001b[1;34m\"Age \"\u001b[0m\u001b[1;33m)\u001b[0m\u001b[1;33m)\u001b[0m\u001b[1;33m\u001b[0m\u001b[1;33m\u001b[0m\u001b[0m\n\u001b[0;32m      4\u001b[0m     \u001b[0mincome\u001b[0m \u001b[1;33m=\u001b[0m \u001b[1;36m2000\u001b[0m\u001b[1;33m\u001b[0m\u001b[1;33m\u001b[0m\u001b[0m\n\u001b[1;32m----> 5\u001b[1;33m     \u001b[0mrisk\u001b[0m \u001b[1;33m=\u001b[0m \u001b[0mincome\u001b[0m\u001b[1;33m/\u001b[0m\u001b[0mage\u001b[0m\u001b[1;33m\u001b[0m\u001b[1;33m\u001b[0m\u001b[0m\n\u001b[0m\u001b[0;32m      6\u001b[0m     \u001b[0mprint\u001b[0m\u001b[1;33m(\u001b[0m\u001b[0mage\u001b[0m\u001b[1;33m)\u001b[0m\u001b[1;33m\u001b[0m\u001b[1;33m\u001b[0m\u001b[0m\n\u001b[0;32m      7\u001b[0m \u001b[1;32mexcept\u001b[0m \u001b[0mValueError\u001b[0m\u001b[1;33m:\u001b[0m\u001b[1;33m\u001b[0m\u001b[1;33m\u001b[0m\u001b[0m\n",
      "\u001b[1;31mZeroDivisionError\u001b[0m: division by zero"
     ]
    }
   ],
   "source": [
    "### example 2\n",
    "try:\n",
    "    age = int(input(\"Age \"))\n",
    "    income = 2000\n",
    "    risk = income/age\n",
    "    print(age)\n",
    "except ValueError:\n",
    "    print(\"Invalid Value\")"
   ]
  },
  {
   "cell_type": "code",
   "execution_count": null,
   "id": "a3fb5fc4",
   "metadata": {},
   "outputs": [
    {
     "name": "stdout",
     "output_type": "stream",
     "text": [
      "Age 0\n",
      "Age can't be Zero!\n"
     ]
    }
   ],
   "source": [
    "### the above progrma shows ZeroDivisionError, and crushes the program\n",
    "### we have to catch using exception\n",
    "try:\n",
    "    age = int(input(\"Age \"))\n",
    "    income = 2000\n",
    "    risk = income/age\n",
    "    print(age)\n",
    "except ValueError:\n",
    "    print(\"Invalid Value\")\n",
    "except ZeroDivisionError:\n",
    "    print(\"Age can't be Zero!\")"
   ]
  },
  {
   "cell_type": "markdown",
   "id": "5ade7c6d",
   "metadata": {},
   "source": [
    "### Classes\n",
    "Used to model real concepts and objects  <br/>\n",
    "defined in class keyword   <br/>\n",
    "naming convention: Capitilize the first letter of class name"
   ]
  },
  {
   "cell_type": "code",
   "execution_count": null,
   "id": "c4fbb47e",
   "metadata": {},
   "outputs": [
    {
     "name": "stdout",
     "output_type": "stream",
     "text": [
      "Move\n",
      "Drwa\n"
     ]
    }
   ],
   "source": [
    "### Examples\n",
    "class Point:\n",
    "    def move(self):   ### Method 1\n",
    "        print(\"Move\")\n",
    "    def draw(self):    ### method 2\n",
    "        print(\"Drwa\")\n",
    "### creating objects, an instance of a class\n",
    "point1 = Point()\n",
    "point1.move()\n",
    "point1.draw()"
   ]
  },
  {
   "cell_type": "raw",
   "id": "cafc1e36",
   "metadata": {},
   "source": [
    "the functions that are specific for some classes such as strings only, lists only, are called methods"
   ]
  },
  {
   "cell_type": "code",
   "execution_count": null,
   "id": "9eb7ac97",
   "metadata": {},
   "outputs": [
    {
     "name": "stdout",
     "output_type": "stream",
     "text": [
      "20\n",
      "30\n"
     ]
    }
   ],
   "source": [
    "### Attributes\n",
    "### Examples\n",
    "class Point:\n",
    "    def move(self):   ### Method 1\n",
    "        print(\"Move\")\n",
    "    def draw(self):    ### method 2\n",
    "        print(\"Drwa\")\n",
    "### creating objects, an instance of a class\n",
    "point1 = Point()\n",
    "point1.x = 20 ### attribute 1 for the point object\n",
    "point1.y = 30 ### attribute 2 for the point object\n",
    "print(point1.x)\n",
    "print(point1.y)\n"
   ]
  },
  {
   "cell_type": "markdown",
   "id": "719189cc",
   "metadata": {},
   "source": [
    "### Constructors\n",
    "a function that gets called at a time of creating an object"
   ]
  },
  {
   "cell_type": "code",
   "execution_count": null,
   "id": "ff1221e8",
   "metadata": {},
   "outputs": [
    {
     "name": "stdout",
     "output_type": "stream",
     "text": [
      "20\n",
      "30\n"
     ]
    }
   ],
   "source": [
    "### Example\n",
    "class Point:\n",
    "    def __init__(self, x, y): ## __init__ means intialize, at object creation. x, and y are constructors\n",
    "        self.x = x\n",
    "        self.y = y\n",
    "        \n",
    "    def move(self):   ### Method 1\n",
    "        print(\"Move\")\n",
    "    def draw(self):    ### method 2\n",
    "        print(\"Drwa\")\n",
    "point1 = Point(20, 30)\n",
    "### we can pass values through constructors without creating attributes to the objects ♥ \n",
    "print(point1.x)\n",
    "print(point1.y)"
   ]
  },
  {
   "cell_type": "code",
   "execution_count": null,
   "id": "2868ed47",
   "metadata": {},
   "outputs": [
    {
     "name": "stdout",
     "output_type": "stream",
     "text": [
      "25\n",
      "30\n"
     ]
    }
   ],
   "source": [
    "### Updating constructors\n",
    "class Point:\n",
    "    def __init__(self, x, y): ## __init__ means intialize, at object creation. x, and y are constructors\n",
    "        self.x = x\n",
    "        self.y = y\n",
    "        \n",
    "    def move(self):   ### Method 1\n",
    "        print(\"Move\")\n",
    "    def draw(self):    ### method 2\n",
    "        print(\"Drwa\")\n",
    "point1 = Point(20, 30)\n",
    "point1.x = 25\n",
    "print(point1.x)\n",
    "print(point1.y)"
   ]
  },
  {
   "cell_type": "raw",
   "id": "b62173b4",
   "metadata": {},
   "source": [
    "### Exercise\n",
    "define a classs name called person that contains an attribute of name, and a method of talk."
   ]
  },
  {
   "cell_type": "code",
   "execution_count": null,
   "id": "a3134c4b",
   "metadata": {},
   "outputs": [
    {
     "name": "stdout",
     "output_type": "stream",
     "text": [
      "Yeshiwas\n",
      "Can talk !\n"
     ]
    }
   ],
   "source": [
    "### Solution\n",
    "class Person:\n",
    "    def __init__(self, name): ## constructor\n",
    "        self.name = name    ### name attribute\n",
    "    \n",
    "    def talk(self):\n",
    "        print(\"Can talk !\")\n",
    "        \n",
    "person1 = Person(\"Yeshiwas\")\n",
    "print(person1.name)\n",
    "person1.talk()"
   ]
  },
  {
   "cell_type": "code",
   "execution_count": null,
   "id": "237fe641",
   "metadata": {},
   "outputs": [
    {
     "name": "stdout",
     "output_type": "stream",
     "text": [
      "Hi, I'm Yeshiwas Dagnaw\n",
      "Hi, I'm Helen Tesfa\n"
     ]
    }
   ],
   "source": [
    "### Making more attractive\n",
    "class Person:\n",
    "    def __init__(self, name): ## constructor\n",
    "        self.name = name    ### name attribute\n",
    "    \n",
    "    def talk(self):\n",
    "        print(f\"Hi, I'm {self.name}\")\n",
    "        \n",
    "person1 = Person(\"Yeshiwas Dagnaw\")\n",
    "person1.talk()\n",
    "person2 = Person(\"Helen Tesfa\")\n",
    "person2.talk()"
   ]
  },
  {
   "cell_type": "markdown",
   "id": "8f30b141",
   "metadata": {},
   "source": [
    "### Inheritance\n",
    "a method of re-using a code"
   ]
  },
  {
   "cell_type": "code",
   "execution_count": null,
   "id": "247496b5",
   "metadata": {},
   "outputs": [],
   "source": [
    "class Dog:\n",
    "    def walk(self):\n",
    "        print(\"Walk\")\n",
    "\n",
    "class Cat:\n",
    "    def walk(self): \n",
    "        print(\"Walk\")\n",
    "### walk() method is repeated, inheritance helps to solve this repetition by re-using a code.\n",
    "### DRY, don't repeat yourself principle (the above walk() voiletes this)"
   ]
  },
  {
   "cell_type": "code",
   "execution_count": null,
   "id": "ef8cb397",
   "metadata": {},
   "outputs": [
    {
     "name": "stdout",
     "output_type": "stream",
     "text": [
      "Walk\n",
      "Walk\n"
     ]
    }
   ],
   "source": [
    "class Mammal:\n",
    "    def walk(self):\n",
    "        print(\"Walk\")\n",
    "class Dog(Mammal): ### syntax to inherit ftom parrent class, Mammal is parent and Dog and Cat are child classes\n",
    "    pass\n",
    "class Cat(Mammal):\n",
    "    pass\n",
    "\n",
    "dog1 = Dog()\n",
    "cat1 = Cat()\n",
    "dog1.walk()\n",
    "cat1.walk()"
   ]
  },
  {
   "cell_type": "code",
   "execution_count": null,
   "id": "802ff8c0",
   "metadata": {},
   "outputs": [
    {
     "name": "stdout",
     "output_type": "stream",
     "text": [
      "Walk\n",
      "Dog Barks\n",
      "Walk\n",
      "Cat Hunts Rats\n"
     ]
    }
   ],
   "source": [
    "### Adding methods to specific classes\n",
    "class Mammal:\n",
    "    def walk(self):\n",
    "        print(\"Walk\")\n",
    "class Dog(Mammal): \n",
    "    def bark(self):\n",
    "        print(\"Dog Barks\")\n",
    "class Cat(Mammal):\n",
    "    def hunting_rat(self):\n",
    "        print(\"Cat Hunts Rats\")\n",
    "\n",
    "dog1 = Dog()\n",
    "cat1 = Cat()\n",
    "dog1.walk()\n",
    "dog1.bark()\n",
    "cat1.walk()\n",
    "cat1.hunting_rat()"
   ]
  },
  {
   "cell_type": "markdown",
   "id": "206b80fc",
   "metadata": {},
   "source": [
    "### Modules\n",
    "To organize python codes into different files <br/>\n",
    "Contains different methods"
   ]
  },
  {
   "cell_type": "code",
   "execution_count": null,
   "id": "4843b3fd",
   "metadata": {},
   "outputs": [
    {
     "name": "stdout",
     "output_type": "stream",
     "text": [
      "54.0\n"
     ]
    }
   ],
   "source": [
    "### taking kg to pound convertor\n",
    "### Using convertors.py file\n",
    "import convertors\n",
    "print(convertors.lbs_to_kg(120))"
   ]
  },
  {
   "cell_type": "code",
   "execution_count": null,
   "id": "63042d00",
   "metadata": {},
   "outputs": [
    {
     "name": "stdout",
     "output_type": "stream",
     "text": [
      "133.33333333333334\n"
     ]
    }
   ],
   "source": [
    "### importing the methods directly\n",
    "from convertors import kg_to_lbs\n",
    "print(kg_to_lbs(60))"
   ]
  },
  {
   "cell_type": "code",
   "execution_count": null,
   "id": "5cccc922",
   "metadata": {},
   "outputs": [],
   "source": [
    "### Exercise\n",
    "### finding the largest number from the list\n",
    "nums = [12, 6, 3, 10, 22, 5, 0]\n",
    "largest = nums[0]\n",
    "for maximum in nums:\n",
    "    if maximum > largest:\n",
    "        largest = maximum\n",
    "print(largest)\n",
    "### convert into modules"
   ]
  },
  {
   "cell_type": "code",
   "execution_count": null,
   "id": "db1e6d59",
   "metadata": {},
   "outputs": [
    {
     "name": "stdout",
     "output_type": "stream",
     "text": [
      "50\n"
     ]
    }
   ],
   "source": [
    "### taking largest_number.py file\n",
    "import largest_number\n",
    "from largest_number import find_max   ### calling find_max() method from largest_number module\n",
    "number = [12, 6, 3, 10, 22, 50, 0]   \n",
    "large_no = find_max(number)\n",
    "print(large_no)"
   ]
  },
  {
   "cell_type": "markdown",
   "id": "3cb933b2",
   "metadata": {},
   "source": [
    "### Packages"
   ]
  },
  {
   "cell_type": "raw",
   "id": "002c8072",
   "metadata": {},
   "source": [
    "Package:\n",
    "Containers that contains different modules\n",
    "a special file that makes a directory as a package is \"__init__.py\"\n",
    "when the python interpreter sees this file, it considers/treats that directory as package"
   ]
  },
  {
   "cell_type": "code",
   "execution_count": null,
   "id": "eacdda82",
   "metadata": {},
   "outputs": [],
   "source": [
    "### Let's create an ecommerce app\n",
    "### make ecommerce directory as \n",
    "### we can import the entire module or we can import the specific methods"
   ]
  },
  {
   "cell_type": "code",
   "execution_count": null,
   "id": "e9f65603",
   "metadata": {},
   "outputs": [
    {
     "name": "stdout",
     "output_type": "stream",
     "text": [
      "calculating shipping\n"
     ]
    }
   ],
   "source": [
    "### importing the entire module\n",
    "import ecommerce.shipping\n",
    "ecommerce.shipping.calc_shipping()  ### so longggggg, so that we have to call the specific method "
   ]
  },
  {
   "cell_type": "code",
   "execution_count": null,
   "id": "f1d52f46",
   "metadata": {},
   "outputs": [
    {
     "name": "stdout",
     "output_type": "stream",
     "text": [
      "calculating shipping\n",
      "calculating shipping\n",
      "calculating shipping\n",
      "calculating shipping\n",
      "........Method one...........\n",
      "calculating shipping\n",
      "calculating shipping\n",
      "calculating shipping\n",
      ".......Method two............\n"
     ]
    }
   ],
   "source": [
    "### importing specific method(s), calc_shipping from shipping module\n",
    "from ecommerce.shipping import calc_shipping\n",
    "calc_shipping()  ### shorter\n",
    "calc_shipping() \n",
    "calc_shipping() \n",
    "calc_shipping() \n",
    "print(\"........Method one...........\")\n",
    "### or\n",
    "from ecommerce import shipping\n",
    "shipping.calc_shipping()\n",
    "shipping.calc_shipping()\n",
    "shipping.calc_shipping()\n",
    "print(\".......Method two............\")"
   ]
  },
  {
   "cell_type": "code",
   "execution_count": null,
   "id": "1cc71427",
   "metadata": {},
   "outputs": [
    {
     "name": "stdout",
     "output_type": "stream",
     "text": [
      "calculating shipping\n",
      "Listing Available Products\n"
     ]
    }
   ],
   "source": [
    "### importing specific method(s), products_list from products module\n",
    "from ecommerce.shipping import calc_shipping\n",
    "from ecommerce.products import products_list\n",
    "\n",
    "calc_shipping()  \n",
    "products_list()"
   ]
  },
  {
   "cell_type": "markdown",
   "id": "24e06f56",
   "metadata": {},
   "source": [
    "### Generating random Numbers\n",
    "using built-in function"
   ]
  },
  {
   "cell_type": "code",
   "execution_count": null,
   "id": "e3e97543",
   "metadata": {},
   "outputs": [
    {
     "name": "stdout",
     "output_type": "stream",
     "text": [
      "0.5572031637760054\n",
      "0.8110272953621189\n",
      "0.13549486003212996\n"
     ]
    }
   ],
   "source": [
    "import random\n",
    "for i in range(3): ### to generate three numberes\n",
    "    print(random.random())"
   ]
  },
  {
   "cell_type": "code",
   "execution_count": null,
   "id": "46448133",
   "metadata": {},
   "outputs": [
    {
     "name": "stdout",
     "output_type": "stream",
     "text": [
      "12\n",
      "17\n",
      "19\n"
     ]
    }
   ],
   "source": [
    "### To generate random numbers between specific range\n",
    "import random\n",
    "for i in range(3): ### to generate three numberes\n",
    "    print(random.randint(10, 20)) ### to generate three numberes in between 10 1nd 20"
   ]
  },
  {
   "cell_type": "code",
   "execution_count": null,
   "id": "cfbe35a1",
   "metadata": {},
   "outputs": [
    {
     "name": "stdout",
     "output_type": "stream",
     "text": [
      "Yeshiwas\n"
     ]
    }
   ],
   "source": [
    "### to print random person from the list of members\n",
    "\n",
    "memebers = [\"Mery\", \"Netsi\", \"Hellen\", \"Yeshiwas\"]\n",
    "print(random.choice(memebers))"
   ]
  },
  {
   "cell_type": "code",
   "execution_count": null,
   "id": "3914068d",
   "metadata": {},
   "outputs": [
    {
     "name": "stdout",
     "output_type": "stream",
     "text": [
      "The Leader is: Mery\n"
     ]
    }
   ],
   "source": [
    "### to print random leader from the list of members\n",
    "\n",
    "memebers = [\"Mery\", \"Netsi\", \"Hellen\", \"Yeshiwas\"]\n",
    "leader = random.choice(memebers)\n",
    "print(f\"The Leader is: {leader}\")"
   ]
  },
  {
   "cell_type": "code",
   "execution_count": null,
   "id": "2ba0dc07",
   "metadata": {},
   "outputs": [],
   "source": [
    "### Exercise\n",
    "### Rolling dice, print random values (pair of values like (1, 3), 4, 2). and the like)\n",
    "### the class called Dice, the method called roll()\n",
    "### the items are read-only list (tuples)"
   ]
  },
  {
   "cell_type": "code",
   "execution_count": null,
   "id": "b6ba33e4",
   "metadata": {},
   "outputs": [
    {
     "name": "stdout",
     "output_type": "stream",
     "text": [
      "(4, 1)\n"
     ]
    }
   ],
   "source": [
    "#### Solution\n",
    "import random\n",
    "class Dice:\n",
    "    def roll(self):\n",
    "        i = random.randint(1, 6)\n",
    "        j = random.randint(1, 6)\n",
    "        return i, j\n",
    "    \n",
    "dice1 = Dice()\n",
    "print(dice1.roll())"
   ]
  },
  {
   "cell_type": "markdown",
   "id": "c1389d83",
   "metadata": {},
   "source": [
    "### FIles and Directories\n",
    "pythonlib is a library for filesystem paths"
   ]
  },
  {
   "cell_type": "code",
   "execution_count": null,
   "id": "4a3c6a0e",
   "metadata": {},
   "outputs": [
    {
     "name": "stdout",
     "output_type": "stream",
     "text": [
      "True\n"
     ]
    }
   ],
   "source": [
    "### example\n",
    "from pathlib import Path  ### Path, capital P indicates Path is a class in the pathlib library\n",
    "### Absolute path: the path from the root of the hard-disk\n",
    "### relative path: the pah from the current working directory\n",
    "path = Path(\"ecommerce\")\n",
    "print(path.exists()) #### to cehck weather the path exists or not"
   ]
  },
  {
   "cell_type": "code",
   "execution_count": null,
   "id": "0e4065f6",
   "metadata": {},
   "outputs": [],
   "source": [
    "### creating new directories\n",
    "new_path = Path(\"Emails\")\n",
    "new_path.mkdir()"
   ]
  },
  {
   "cell_type": "code",
   "execution_count": null,
   "id": "77527558",
   "metadata": {},
   "outputs": [],
   "source": [
    "### to remove directory, we use rmdir()"
   ]
  },
  {
   "cell_type": "code",
   "execution_count": null,
   "id": "7cb3b2bd",
   "metadata": {},
   "outputs": [
    {
     "name": "stdout",
     "output_type": "stream",
     "text": [
      "<generator object Path.glob at 0x0000021AADAC4890>\n"
     ]
    }
   ],
   "source": [
    "#### to iterate over the files in the directory, we use glob() method\n",
    "path = Path()\n",
    "print(path.glob('*.*')) ### All files in all extensions\n",
    "print(path.glob('*.py')) ### finding all files with .py extension"
   ]
  },
  {
   "cell_type": "code",
   "execution_count": null,
   "id": "546618fc",
   "metadata": {},
   "outputs": [],
   "source": [
    "### <generator object Path.glob at 0x0000021AADAC4890>\n",
    "### it is an object,,, we will discuss later"
   ]
  },
  {
   "cell_type": "code",
   "execution_count": null,
   "id": "5cdb8ea5",
   "metadata": {},
   "outputs": [
    {
     "name": "stdout",
     "output_type": "stream",
     "text": [
      "app.py\n",
      "convertors.py\n",
      "largest_number.py\n"
     ]
    }
   ],
   "source": [
    "### to print the list of files\n",
    "for file in path.glob('*.py'):\n",
    "    print(file)"
   ]
  },
  {
   "cell_type": "code",
   "execution_count": null,
   "id": "fb2b32f4",
   "metadata": {},
   "outputs": [
    {
     "name": "stdout",
     "output_type": "stream",
     "text": [
      ".idea\n",
      ".ipynb_checkpoints\n",
      "app.py\n",
      "convertors.py\n",
      "ecommerce\n",
      "Emails\n",
      "largest_number.py\n",
      "Module #1.ipynb\n",
      "__pycache__\n"
     ]
    }
   ],
   "source": [
    "### to print the list of files and directories\n",
    "for file in path.glob('*'):\n",
    "    print(file)"
   ]
  },
  {
   "cell_type": "markdown",
   "id": "f76921f8",
   "metadata": {},
   "source": [
    "### Excel Spreadsheets Project"
   ]
  },
  {
   "cell_type": "code",
   "execution_count": null,
   "id": "5454c8b3",
   "metadata": {},
   "outputs": [],
   "source": [
    "### the project is to make 10% discount from the price of the products\n",
    "import openpyxl as xl\n",
    "workbook = xl.load_workbook('datasets/transactions.xlsx')\n",
    "sheet = workbook['Sheet1'] ### sheet \n",
    "cell= sheet['a1'] ### first cell in sheet. or  cell = sheet.cell(1, 1) ### (row1, column1)\n",
    "### print(cell.value), to print first row and first column value\n",
    "### print(sheet.max_row), to check maximum rows in a sheet\n",
    "for row in range(2, sheet.max_row + 1 ): ### iterate ferom first row to the last(max row), execluding max-row +1\n",
    "    ### the first row contains transaction_id, product_id, and price. so we shouldn't consider it\n",
    "    # print(row)\n",
    "    cell = sheet.cell(row, 3) ### row 2, 3, 4 with column 3. tha is the position of price\n",
    "    ## print(cell.value)\n",
    "    corrected_price = cell.value * 0.9 ### 10% is discounted \n",
    "    corrected_price_cell = sheet.cell(row, 4) ### puting the values in the fourth column\n",
    "    corrected_price_cell.value = corrected_price ### assignining corrcted prices to the cells in 4th column\n",
    "workbook.save('datasets/transactions2.xlsx')\n",
    "    "
   ]
  },
  {
   "cell_type": "code",
   "execution_count": null,
   "id": "c70e3c21",
   "metadata": {},
   "outputs": [],
   "source": [
    "### Adding chart\n",
    "import openpyxl as xl\n",
    "from openpyxl.chart import BarChart, Reference\n",
    "\n",
    "workbook = xl.load_workbook('datasets/transactions.xlsx')\n",
    "sheet = workbook['Sheet1'] ### sheet \n",
    "cell= sheet['a1'] ### first cell in sheet. or  cell = sheet.cell(1, 1) ### (row1, column1)\n",
    "### print(cell.value), to print first row and first column value\n",
    "### print(sheet.max_row), to check maximum rows in a sheet\n",
    "for row in range(2, sheet.max_row + 1 ): ### iterate ferom first row to the last(max row), execluding max-row +1\n",
    "    ### the first row contains transaction_id, product_id, and price. so we shouldn't consider it\n",
    "    # print(row)\n",
    "    cell = sheet.cell(row, 3) ### row 2, 3, 4 with column 3. tha is the position of price\n",
    "    ## print(cell.value)\n",
    "    corrected_price = cell.value * 0.9 ### 10% is discounted \n",
    "    corrected_price_cell = sheet.cell(row, 4) ### puting the values in the fourth column\n",
    "    corrected_price_cell.value = corrected_price ### assignining corrcted prices to the cells in 4th column\n",
    "    \n",
    "Values = Reference(sheet,\n",
    "            min_row=2,\n",
    "             max_row=sheet.max_row,\n",
    "             min_col=4,\n",
    "             max_col=4\n",
    "            )\n",
    "chart = BarChart()\n",
    "chart.add_data(Values)\n",
    "sheet.add_chart(chart, 'e2') ## add chart in column E row 2\n",
    "\n",
    "    \n",
    "workbook.save('datasets/transactions2.xlsx')\n",
    "    "
   ]
  },
  {
   "cell_type": "code",
   "execution_count": null,
   "id": "72ad0b59",
   "metadata": {},
   "outputs": [],
   "source": [
    "#### organizing the code in function\n",
    "import openpyxl as xl\n",
    "from openpyxl.chart import BarChart, Reference\n",
    "\n",
    "filename = 'datasets/transactions2.xlsx'\n",
    "\n",
    "def process_workbook(filename):\n",
    "    workbook = xl.load_workbook(filename)\n",
    "    sheet = workbook['Sheet1'] \n",
    "    \n",
    "    for row in range(2, sheet.max_row + 1 ):\n",
    "        cell = sheet.cell(row, 3)\n",
    "        corrected_price = cell.value * 0.9 \n",
    "        corrected_price_cell = sheet.cell(row, 4) \n",
    "        corrected_price_cell.value = corrected_price\n",
    "    \n",
    "    Values = Reference(sheet,\n",
    "            min_row=2,\n",
    "             max_row=sheet.max_row,\n",
    "             min_col=4,\n",
    "             max_col=4\n",
    "            )\n",
    "    chart = BarChart()\n",
    "    chart.add_data(Values)\n",
    "    sheet.add_chart(chart, 'e2') ## add chart in column E row 2\n",
    "\n",
    "\n",
    "    workbook.save(filename)\n"
   ]
  },
  {
   "cell_type": "code",
   "execution_count": null,
   "id": "490c471d",
   "metadata": {},
   "outputs": [],
   "source": []
  },
  {
   "cell_type": "code",
   "execution_count": null,
   "id": "a363e91d",
   "metadata": {},
   "outputs": [],
   "source": []
  }
 ],
 "metadata": {
  "kernelspec": {
   "display_name": "Python 3 (ipykernel)",
   "language": "python",
   "name": "python3"
  },
  "language_info": {
   "codemirror_mode": {
    "name": "ipython",
    "version": 3
   },
   "file_extension": ".py",
   "mimetype": "text/x-python",
   "name": "python",
   "nbconvert_exporter": "python",
   "pygments_lexer": "ipython3",
   "version": "3.11.5"
  }
 },
 "nbformat": 4,
 "nbformat_minor": 5
}
