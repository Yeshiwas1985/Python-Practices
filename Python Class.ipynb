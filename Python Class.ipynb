{
 "cells": [
  {
   "cell_type": "code",
   "execution_count": 13,
   "id": "8b80563c-77a3-4d51-b50a-abf73bc58215",
   "metadata": {},
   "outputs": [
    {
     "name": "stdout",
     "output_type": "stream",
     "text": [
      "100\n",
      "Yeshiwas\n"
     ]
    }
   ],
   "source": [
    "class student:\n",
    "    '''This is a class for many objects'''\n",
    "    def __init__(self, name, roll_num):\n",
    "        self.name = name\n",
    "        self.roll_num = roll_num\n",
    "    def talk(self):\n",
    "        print(f\"Name: {self.name}\")\n",
    "        print(f\"Roll Number: {self.roll_num}\")\n",
    "\n",
    "s = student(100, \"Yeshiwas\")\n",
    "print(s.name)\n",
    "print(s.roll_num)"
   ]
  },
  {
   "cell_type": "code",
   "execution_count": 14,
   "id": "5639c744-6b9f-43e2-8d82-7c60634ed2b8",
   "metadata": {},
   "outputs": [
    {
     "name": "stdout",
     "output_type": "stream",
     "text": [
      "Name: 100\n",
      "Roll Number: Yeshiwas\n"
     ]
    }
   ],
   "source": [
    "s.talk()"
   ]
  },
  {
   "cell_type": "code",
   "execution_count": 15,
   "id": "b881c656-cca3-41be-a8ca-562927ebe486",
   "metadata": {},
   "outputs": [],
   "source": [
    "s2 = student(200, \"Doe\")\n",
    "s3 = student(300, \"Joe\")"
   ]
  },
  {
   "cell_type": "code",
   "execution_count": 16,
   "id": "32e778c5-6dab-4c60-a83f-25f93da6eac1",
   "metadata": {},
   "outputs": [
    {
     "name": "stdout",
     "output_type": "stream",
     "text": [
      "200\n",
      "Doe\n",
      "Name: 200\n",
      "Roll Number: Doe\n"
     ]
    }
   ],
   "source": [
    "print(s2.name)\n",
    "print(s2.roll_num)\n",
    "s2.talk()"
   ]
  },
  {
   "cell_type": "code",
   "execution_count": 17,
   "id": "4dbc2ec9-b805-4960-b53b-1536120d3654",
   "metadata": {},
   "outputs": [
    {
     "name": "stdout",
     "output_type": "stream",
     "text": [
      "300\n",
      "Joe\n",
      "Name: 300\n",
      "Roll Number: Joe\n"
     ]
    }
   ],
   "source": [
    "print(s3.name)\n",
    "print(s3.roll_num)\n",
    "s3.talk()"
   ]
  },
  {
   "cell_type": "code",
   "execution_count": 18,
   "id": "5b52be7d-cd54-4497-aa18-35b9bab04ab3",
   "metadata": {},
   "outputs": [
    {
     "name": "stdout",
     "output_type": "stream",
     "text": [
      "This is a class for many objects\n"
     ]
    }
   ],
   "source": [
    "print(student.__doc__)"
   ]
  },
  {
   "cell_type": "code",
   "execution_count": 19,
   "id": "ca68ba9e-63f8-4273-a645-c6bff71c0fd6",
   "metadata": {},
   "outputs": [
    {
     "name": "stdout",
     "output_type": "stream",
     "text": [
      "Help on class student in module __main__:\n",
      "\n",
      "class student(builtins.object)\n",
      " |  student(name, roll_num)\n",
      " |  \n",
      " |  This is a class for many objects\n",
      " |  \n",
      " |  Methods defined here:\n",
      " |  \n",
      " |  __init__(self, name, roll_num)\n",
      " |      Initialize self.  See help(type(self)) for accurate signature.\n",
      " |  \n",
      " |  talk(self)\n",
      " |  \n",
      " |  ----------------------------------------------------------------------\n",
      " |  Data descriptors defined here:\n",
      " |  \n",
      " |  __dict__\n",
      " |      dictionary for instance variables (if defined)\n",
      " |  \n",
      " |  __weakref__\n",
      " |      list of weak references to the object (if defined)\n",
      "\n"
     ]
    }
   ],
   "source": [
    "help(student)"
   ]
  },
  {
   "cell_type": "code",
   "execution_count": 20,
   "id": "2e0962c0-c8bf-4284-9d03-70f830cf0edd",
   "metadata": {},
   "outputs": [
    {
     "name": "stdout",
     "output_type": "stream",
     "text": [
      "2058608449040\n"
     ]
    }
   ],
   "source": [
    "print(id(s)) #### Memory addresss of object s"
   ]
  },
  {
   "cell_type": "code",
   "execution_count": 21,
   "id": "981da584-4d50-4726-989a-195efaa96f75",
   "metadata": {},
   "outputs": [
    {
     "name": "stdout",
     "output_type": "stream",
     "text": [
      "2058608371344\n"
     ]
    }
   ],
   "source": [
    "print(id(s2)) #### Memory addresss of object s2"
   ]
  }
 ],
 "metadata": {
  "kernelspec": {
   "display_name": "Python 3 (ipykernel)",
   "language": "python",
   "name": "python3"
  },
  "language_info": {
   "codemirror_mode": {
    "name": "ipython",
    "version": 3
   },
   "file_extension": ".py",
   "mimetype": "text/x-python",
   "name": "python",
   "nbconvert_exporter": "python",
   "pygments_lexer": "ipython3",
   "version": "3.11.5"
  }
 },
 "nbformat": 4,
 "nbformat_minor": 5
}
